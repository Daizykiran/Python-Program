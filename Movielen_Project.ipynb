{
 "cells": [
  {
   "cell_type": "markdown",
   "metadata": {},
   "source": [
    "## Movielens Case Study\n",
    "Project 2 \n",
    "\n",
    "#### DESCRIPTION\n",
    "__Background of Problem Statement :__\n",
    "\n",
    "The GroupLens Research Project is a research group in the Department of Computer Science and Engineering at the University of Minnesota. Members of the GroupLens Research Project are involved in many research projects related to the fields of information filtering, collaborative filtering, and recommender systems. The project is led by professors John Riedl and Joseph Konstan. The project began to explore automated collaborative filtering in 1992 but is most well known for its worldwide trial of an automated collaborative filtering system for Usenet news in 1996. Since then the project has expanded its scope to research overall information by filtering solutions, integrating into content-based methods, as well as, improving current collaborative filtering technology.\n",
    "\n",
    "__Problem Objective :__\n",
    "\n",
    "Here, we ask you to perform the analysis using the Exploratory Data Analysis technique. You need to find features affecting the ratings of any particular movie and build a model to predict the movie ratings.\n",
    "\n",
    "__Domain:__ Entertainment\n",
    "\n",
    "__Analysis Tasks to be performed:__\n",
    "\n",
    "* Import the three datasets\n",
    "* Create a new dataset [Master_Data] with the following columns MovieID Title UserID Age Gender Occupation Rating. (Hint: (i) Merge two tables at a time. (ii) Merge the tables using two primary keys MovieID & UserId)\n",
    "* Explore the datasets using visual representations (graphs or tables), also include your comments on the following:\n",
    "\n",
    " 1)User Age Distribution\n",
    " 2)User rating of the movie “Toy Story”\n",
    " 3)Top 25 movies by viewership rating\n",
    " 4)Find the ratings for all the movies reviewed by for a particular user of user id = 2696\n",
    " \n",
    "* Feature Engineering:\n",
    "        Use column genres:\n",
    "\n",
    "1. Find out all the unique genres (Hint: split the data in column genre making a list and then process the data to find out only the unique categories of genres)\n",
    "2. Create a separate column for each genre category with a one-hot encoding ( 1 and 0) whether or not the movie belongs to that genre. \n",
    "3. Determine the features affecting the ratings of any particular movie.\n",
    "4. Develop an appropriate model to predict the movie ratings\n",
    " \n",
    "__Dataset Description :__\n",
    "\n",
    "These files contain 1,000,209 anonymous ratings of approximately 3,900 movies made by 6,040 MovieLens users who joined MovieLens in 2000.\n",
    "\n",
    "__Ratings.dat__\n",
    "\n",
    "    Format - UserID::MovieID::Rating::Timestamp\n",
    "    \n",
    "    Field     Description\n",
    "\n",
    "    UserID\t   Unique identification for each user\n",
    "    MovieID\t  Unique identification for each movie\n",
    "    Rating\t   User rating for each movie\n",
    "    Timestamp\tTimestamp generated while adding user review\n",
    "    \n",
    "* UserIDs range between 1 and 6040 \n",
    "* The MovieIDs range between 1 and 3952\n",
    "* Ratings are made on a 5-star scale (whole-star ratings only)\n",
    "* A timestamp is represented in seconds since the epoch is returned by time(2)\n",
    "* Each user has at least 20 ratings\n",
    "\n",
    "__Users.dat__\n",
    "\n",
    "    Format -  UserID::Gender::Age::Occupation::Zip-code\n",
    "\n",
    "    Field\t      Description\n",
    "    \n",
    "    UserID\t   Unique identification for each user\n",
    "    Genere\t   Category of each movie\n",
    "    Age \t     User’s age\n",
    "    Occupation   User’s Occupation\n",
    "    Zip-code\t Zip Code for the user’s location\n",
    "    \n",
    "All demographic information is provided voluntarily by the users and is not checked for accuracy. Only users who have provided demographic information are included in this data set.\n",
    "\n",
    "* Gender is denoted by an \"M\" for male and \"F\" for female\n",
    "* Age is chosen from the following ranges:\n",
    " \n",
    "\n",
    "    Value   Description\n",
    "    \n",
    "    1  \t\"Under 18\"\n",
    "    18 \t\"18-24\"\n",
    "    25 \t\"25-34\"\n",
    "    35\t \"35-44\"\n",
    "    45\t \"45-49\"\n",
    "    50\t \"50-55\"\n",
    "    56\t \"56+\"\n",
    " \n",
    "* Occupation is chosen from the following choices:\n",
    "\n",
    "        Value\tDescription\n",
    "        \n",
    "        0 \t\"other\" or not specified\n",
    "        1 \t\"academic/educator\"\n",
    "        2\t \"artist”\n",
    "        3\t \"clerical/admin\"\n",
    "        4\t \"college/grad student\"\n",
    "        5\t \"customer service\"\n",
    "        6\t \"doctor/health care\"\n",
    "        7\t \"executive/managerial\"\n",
    "        8\t \"farmer\"\n",
    "        9\t \"homemaker\"\n",
    "        10\t\"K-12 student\"\n",
    "        11\t\"lawyer\"\n",
    "        12\t\"programmer\"\n",
    "        13\t\"retired\"\n",
    "        14\t\"sales/marketing\"\n",
    "        15\t\"scientist\"\n",
    "        16\t\"self-employed\"\n",
    "        17\t\"technician/engineer\"\n",
    "        18\t\"tradesman/craftsman\"\n",
    "        19\t\"unemployed\"\n",
    "        20\t\"writer”\n",
    "\n",
    "__Movies.dat__\n",
    "\n",
    "Format - MovieID::Title::Genres\n",
    "\n",
    "       Field  \t       Description  \n",
    "       \n",
    "    MovieID\t Unique identification for each movie\n",
    "    Title \t A title for each movie\n",
    "    Genres\t Category of each movie\n",
    "- Titles are identical to titles provided by the IMDB (including year of release)\n",
    "- Genres are pipe-separated and are selected from the following genres:\n",
    "\n",
    "\n",
    "    1) Action    \n",
    "    2) Adventure\n",
    "    3) Animation \n",
    "    4) Children's\n",
    "    5) Comedy\n",
    "    6) Crime\n",
    "    7) Documentary\n",
    "    8) Drama\n",
    "    9) Fantasy\n",
    "    10) Film-Noir\n",
    "    11) Horror\n",
    "    12) Musical\n",
    "    13) Mystery\n",
    "    14) Romance\n",
    "    15) Sci-Fi\n",
    "    16) Thriller\n",
    "    17) War\n",
    "    18) Western\n",
    "    \n",
    "- Some MovieIDs do not correspond to a movie due to accidental duplicate entries and/or test entries\n",
    "- Movies are mostly entered by hand, so errors and inconsistencies may exist"
   ]
  },
  {
   "cell_type": "code",
   "execution_count": 1,
   "metadata": {},
   "outputs": [],
   "source": [
    "import time\n",
    "import random\n",
    "import math\n",
    "from math import *\n",
    "import operator\n",
    "import pandas as pd\n",
    "import numpy as np\n",
    "\n",
    "# import plotting libraries\n",
    "import matplotlib\n",
    "import matplotlib.pyplot as plt\n",
    "from matplotlib import style\n",
    "%matplotlib inline \n",
    "\n",
    "import seaborn as sns\n",
    "sns.set(style=\"white\", color_codes=True)\n",
    "sns.set(font_scale=1.5)\n",
    "\n",
    "# import the ML algorithm\n",
    "from sklearn.ensemble import RandomForestClassifier\n",
    "\n",
    "# import libraries for model validation\n",
    "from sklearn.model_selection import StratifiedKFold\n",
    "from sklearn.model_selection import KFold\n",
    "from sklearn.model_selection import cross_val_score\n",
    "from sklearn.model_selection import train_test_split\n",
    "\n",
    "# import libraries for metrics and reporting\n",
    "from sklearn.metrics import confusion_matrix\n",
    "from sklearn.metrics import classification_report\n",
    "from sklearn.metrics import accuracy_score\n",
    "from sklearn.metrics import precision_score\n",
    "from sklearn.metrics import recall_score\n",
    "from sklearn.metrics import f1_score\n",
    "from sklearn import metrics\n",
    "from sklearn.metrics import classification_report\n",
    "from sklearn.metrics import roc_curve, auc"
   ]
  },
  {
   "cell_type": "code",
   "execution_count": 2,
   "metadata": {},
   "outputs": [
    {
     "name": "stderr",
     "output_type": "stream",
     "text": [
      "C:\\Users\\Gaurav\\.conda\\envs\\env\\lib\\site-packages\\ipykernel_launcher.py:2: ParserWarning: Falling back to the 'python' engine because the 'c' engine does not support regex separators (separators > 1 char and different from '\\s+' are interpreted as regex); you can avoid this warning by specifying engine='python'.\n",
      "  \n"
     ]
    },
    {
     "data": {
      "text/html": [
       "<div>\n",
       "<style scoped>\n",
       "    .dataframe tbody tr th:only-of-type {\n",
       "        vertical-align: middle;\n",
       "    }\n",
       "\n",
       "    .dataframe tbody tr th {\n",
       "        vertical-align: top;\n",
       "    }\n",
       "\n",
       "    .dataframe thead th {\n",
       "        text-align: right;\n",
       "    }\n",
       "</style>\n",
       "<table border=\"1\" class=\"dataframe\">\n",
       "  <thead>\n",
       "    <tr style=\"text-align: right;\">\n",
       "      <th></th>\n",
       "      <th>UserID</th>\n",
       "      <th>MovieID</th>\n",
       "      <th>Rating</th>\n",
       "      <th>Timestamp</th>\n",
       "    </tr>\n",
       "  </thead>\n",
       "  <tbody>\n",
       "    <tr>\n",
       "      <th>0</th>\n",
       "      <td>1</td>\n",
       "      <td>1193</td>\n",
       "      <td>5</td>\n",
       "      <td>978300760</td>\n",
       "    </tr>\n",
       "    <tr>\n",
       "      <th>1</th>\n",
       "      <td>1</td>\n",
       "      <td>661</td>\n",
       "      <td>3</td>\n",
       "      <td>978302109</td>\n",
       "    </tr>\n",
       "    <tr>\n",
       "      <th>2</th>\n",
       "      <td>1</td>\n",
       "      <td>914</td>\n",
       "      <td>3</td>\n",
       "      <td>978301968</td>\n",
       "    </tr>\n",
       "    <tr>\n",
       "      <th>3</th>\n",
       "      <td>1</td>\n",
       "      <td>3408</td>\n",
       "      <td>4</td>\n",
       "      <td>978300275</td>\n",
       "    </tr>\n",
       "    <tr>\n",
       "      <th>4</th>\n",
       "      <td>1</td>\n",
       "      <td>2355</td>\n",
       "      <td>5</td>\n",
       "      <td>978824291</td>\n",
       "    </tr>\n",
       "  </tbody>\n",
       "</table>\n",
       "</div>"
      ],
      "text/plain": [
       "   UserID  MovieID  Rating  Timestamp\n",
       "0       1     1193       5  978300760\n",
       "1       1      661       3  978302109\n",
       "2       1      914       3  978301968\n",
       "3       1     3408       4  978300275\n",
       "4       1     2355       5  978824291"
      ]
     },
     "execution_count": 2,
     "metadata": {},
     "output_type": "execute_result"
    }
   ],
   "source": [
    "rat = pd.read_csv('https://raw.githubusercontent.com/wesm/pydata-book/1st-edition/ch02/movielens/ratings.dat',\n",
    "            sep='::', header=None, names=['UserID','MovieID','Rating','Timestamp'])\n",
    "rat.head(5)"
   ]
  },
  {
   "cell_type": "code",
   "execution_count": 3,
   "metadata": {},
   "outputs": [
    {
     "name": "stderr",
     "output_type": "stream",
     "text": [
      "C:\\Users\\Gaurav\\.conda\\envs\\env\\lib\\site-packages\\ipykernel_launcher.py:1: ParserWarning: Falling back to the 'python' engine because the 'c' engine does not support regex separators (separators > 1 char and different from '\\s+' are interpreted as regex); you can avoid this warning by specifying engine='python'.\n",
      "  \"\"\"Entry point for launching an IPython kernel.\n"
     ]
    },
    {
     "data": {
      "text/html": [
       "<div>\n",
       "<style scoped>\n",
       "    .dataframe tbody tr th:only-of-type {\n",
       "        vertical-align: middle;\n",
       "    }\n",
       "\n",
       "    .dataframe tbody tr th {\n",
       "        vertical-align: top;\n",
       "    }\n",
       "\n",
       "    .dataframe thead th {\n",
       "        text-align: right;\n",
       "    }\n",
       "</style>\n",
       "<table border=\"1\" class=\"dataframe\">\n",
       "  <thead>\n",
       "    <tr style=\"text-align: right;\">\n",
       "      <th></th>\n",
       "      <th>MovieID</th>\n",
       "      <th>Title</th>\n",
       "      <th>Genres</th>\n",
       "    </tr>\n",
       "  </thead>\n",
       "  <tbody>\n",
       "    <tr>\n",
       "      <th>0</th>\n",
       "      <td>1</td>\n",
       "      <td>Toy Story (1995)</td>\n",
       "      <td>Animation|Children's|Comedy</td>\n",
       "    </tr>\n",
       "    <tr>\n",
       "      <th>1</th>\n",
       "      <td>2</td>\n",
       "      <td>Jumanji (1995)</td>\n",
       "      <td>Adventure|Children's|Fantasy</td>\n",
       "    </tr>\n",
       "    <tr>\n",
       "      <th>2</th>\n",
       "      <td>3</td>\n",
       "      <td>Grumpier Old Men (1995)</td>\n",
       "      <td>Comedy|Romance</td>\n",
       "    </tr>\n",
       "    <tr>\n",
       "      <th>3</th>\n",
       "      <td>4</td>\n",
       "      <td>Waiting to Exhale (1995)</td>\n",
       "      <td>Comedy|Drama</td>\n",
       "    </tr>\n",
       "    <tr>\n",
       "      <th>4</th>\n",
       "      <td>5</td>\n",
       "      <td>Father of the Bride Part II (1995)</td>\n",
       "      <td>Comedy</td>\n",
       "    </tr>\n",
       "  </tbody>\n",
       "</table>\n",
       "</div>"
      ],
      "text/plain": [
       "   MovieID                               Title                        Genres\n",
       "0        1                    Toy Story (1995)   Animation|Children's|Comedy\n",
       "1        2                      Jumanji (1995)  Adventure|Children's|Fantasy\n",
       "2        3             Grumpier Old Men (1995)                Comedy|Romance\n",
       "3        4            Waiting to Exhale (1995)                  Comedy|Drama\n",
       "4        5  Father of the Bride Part II (1995)                        Comedy"
      ]
     },
     "execution_count": 3,
     "metadata": {},
     "output_type": "execute_result"
    }
   ],
   "source": [
    "mov = pd.read_csv('~/Desktop/Kiran/Python_Project_2/movies.dat',sep=\"::\",header=None, names=['MovieID','Title','Genres'])\n",
    "mov.head()"
   ]
  },
  {
   "cell_type": "code",
   "execution_count": 4,
   "metadata": {},
   "outputs": [
    {
     "name": "stderr",
     "output_type": "stream",
     "text": [
      "C:\\Users\\Gaurav\\.conda\\envs\\env\\lib\\site-packages\\ipykernel_launcher.py:1: ParserWarning: Falling back to the 'python' engine because the 'c' engine does not support regex separators (separators > 1 char and different from '\\s+' are interpreted as regex); you can avoid this warning by specifying engine='python'.\n",
      "  \"\"\"Entry point for launching an IPython kernel.\n"
     ]
    },
    {
     "data": {
      "text/html": [
       "<div>\n",
       "<style scoped>\n",
       "    .dataframe tbody tr th:only-of-type {\n",
       "        vertical-align: middle;\n",
       "    }\n",
       "\n",
       "    .dataframe tbody tr th {\n",
       "        vertical-align: top;\n",
       "    }\n",
       "\n",
       "    .dataframe thead th {\n",
       "        text-align: right;\n",
       "    }\n",
       "</style>\n",
       "<table border=\"1\" class=\"dataframe\">\n",
       "  <thead>\n",
       "    <tr style=\"text-align: right;\">\n",
       "      <th></th>\n",
       "      <th>UserID</th>\n",
       "      <th>Gender</th>\n",
       "      <th>Age</th>\n",
       "      <th>Occupation</th>\n",
       "      <th>Zip-code</th>\n",
       "    </tr>\n",
       "  </thead>\n",
       "  <tbody>\n",
       "    <tr>\n",
       "      <th>0</th>\n",
       "      <td>1</td>\n",
       "      <td>F</td>\n",
       "      <td>1</td>\n",
       "      <td>10</td>\n",
       "      <td>48067</td>\n",
       "    </tr>\n",
       "    <tr>\n",
       "      <th>1</th>\n",
       "      <td>2</td>\n",
       "      <td>M</td>\n",
       "      <td>56</td>\n",
       "      <td>16</td>\n",
       "      <td>70072</td>\n",
       "    </tr>\n",
       "    <tr>\n",
       "      <th>2</th>\n",
       "      <td>3</td>\n",
       "      <td>M</td>\n",
       "      <td>25</td>\n",
       "      <td>15</td>\n",
       "      <td>55117</td>\n",
       "    </tr>\n",
       "    <tr>\n",
       "      <th>3</th>\n",
       "      <td>4</td>\n",
       "      <td>M</td>\n",
       "      <td>45</td>\n",
       "      <td>7</td>\n",
       "      <td>02460</td>\n",
       "    </tr>\n",
       "    <tr>\n",
       "      <th>4</th>\n",
       "      <td>5</td>\n",
       "      <td>M</td>\n",
       "      <td>25</td>\n",
       "      <td>20</td>\n",
       "      <td>55455</td>\n",
       "    </tr>\n",
       "  </tbody>\n",
       "</table>\n",
       "</div>"
      ],
      "text/plain": [
       "   UserID Gender  Age  Occupation Zip-code\n",
       "0       1      F    1          10    48067\n",
       "1       2      M   56          16    70072\n",
       "2       3      M   25          15    55117\n",
       "3       4      M   45           7    02460\n",
       "4       5      M   25          20    55455"
      ]
     },
     "execution_count": 4,
     "metadata": {},
     "output_type": "execute_result"
    }
   ],
   "source": [
    "user = pd.read_csv('~/Desktop/Kiran/Python_Project_2/users.dat',sep=\"::\",header=None,names=[ 'UserID','Gender','Age','Occupation','Zip-code'])\n",
    "user.head()"
   ]
  },
  {
   "cell_type": "code",
   "execution_count": 5,
   "metadata": {},
   "outputs": [
    {
     "data": {
      "text/html": [
       "<div>\n",
       "<style scoped>\n",
       "    .dataframe tbody tr th:only-of-type {\n",
       "        vertical-align: middle;\n",
       "    }\n",
       "\n",
       "    .dataframe tbody tr th {\n",
       "        vertical-align: top;\n",
       "    }\n",
       "\n",
       "    .dataframe thead th {\n",
       "        text-align: right;\n",
       "    }\n",
       "</style>\n",
       "<table border=\"1\" class=\"dataframe\">\n",
       "  <thead>\n",
       "    <tr style=\"text-align: right;\">\n",
       "      <th></th>\n",
       "      <th>UserID</th>\n",
       "      <th>MovieID</th>\n",
       "      <th>Rating</th>\n",
       "      <th>Timestamp</th>\n",
       "      <th>Gender</th>\n",
       "      <th>Age</th>\n",
       "      <th>Occupation</th>\n",
       "      <th>Zip-code</th>\n",
       "    </tr>\n",
       "  </thead>\n",
       "  <tbody>\n",
       "    <tr>\n",
       "      <th>0</th>\n",
       "      <td>1</td>\n",
       "      <td>1193</td>\n",
       "      <td>5</td>\n",
       "      <td>978300760</td>\n",
       "      <td>F</td>\n",
       "      <td>1</td>\n",
       "      <td>10</td>\n",
       "      <td>48067</td>\n",
       "    </tr>\n",
       "    <tr>\n",
       "      <th>1</th>\n",
       "      <td>1</td>\n",
       "      <td>661</td>\n",
       "      <td>3</td>\n",
       "      <td>978302109</td>\n",
       "      <td>F</td>\n",
       "      <td>1</td>\n",
       "      <td>10</td>\n",
       "      <td>48067</td>\n",
       "    </tr>\n",
       "    <tr>\n",
       "      <th>2</th>\n",
       "      <td>1</td>\n",
       "      <td>914</td>\n",
       "      <td>3</td>\n",
       "      <td>978301968</td>\n",
       "      <td>F</td>\n",
       "      <td>1</td>\n",
       "      <td>10</td>\n",
       "      <td>48067</td>\n",
       "    </tr>\n",
       "    <tr>\n",
       "      <th>3</th>\n",
       "      <td>1</td>\n",
       "      <td>3408</td>\n",
       "      <td>4</td>\n",
       "      <td>978300275</td>\n",
       "      <td>F</td>\n",
       "      <td>1</td>\n",
       "      <td>10</td>\n",
       "      <td>48067</td>\n",
       "    </tr>\n",
       "    <tr>\n",
       "      <th>4</th>\n",
       "      <td>1</td>\n",
       "      <td>2355</td>\n",
       "      <td>5</td>\n",
       "      <td>978824291</td>\n",
       "      <td>F</td>\n",
       "      <td>1</td>\n",
       "      <td>10</td>\n",
       "      <td>48067</td>\n",
       "    </tr>\n",
       "  </tbody>\n",
       "</table>\n",
       "</div>"
      ],
      "text/plain": [
       "   UserID  MovieID  Rating  Timestamp Gender  Age  Occupation Zip-code\n",
       "0       1     1193       5  978300760      F    1          10    48067\n",
       "1       1      661       3  978302109      F    1          10    48067\n",
       "2       1      914       3  978301968      F    1          10    48067\n",
       "3       1     3408       4  978300275      F    1          10    48067\n",
       "4       1     2355       5  978824291      F    1          10    48067"
      ]
     },
     "execution_count": 5,
     "metadata": {},
     "output_type": "execute_result"
    }
   ],
   "source": [
    "df1 = rat.merge(user, on='UserID')\n",
    "df1.head()"
   ]
  },
  {
   "cell_type": "code",
   "execution_count": 6,
   "metadata": {},
   "outputs": [
    {
     "data": {
      "text/html": [
       "<div>\n",
       "<style scoped>\n",
       "    .dataframe tbody tr th:only-of-type {\n",
       "        vertical-align: middle;\n",
       "    }\n",
       "\n",
       "    .dataframe tbody tr th {\n",
       "        vertical-align: top;\n",
       "    }\n",
       "\n",
       "    .dataframe thead th {\n",
       "        text-align: right;\n",
       "    }\n",
       "</style>\n",
       "<table border=\"1\" class=\"dataframe\">\n",
       "  <thead>\n",
       "    <tr style=\"text-align: right;\">\n",
       "      <th></th>\n",
       "      <th>MovieID</th>\n",
       "      <th>Title</th>\n",
       "      <th>Genres</th>\n",
       "      <th>UserID</th>\n",
       "      <th>Rating</th>\n",
       "      <th>Timestamp</th>\n",
       "      <th>Gender</th>\n",
       "      <th>Age</th>\n",
       "      <th>Occupation</th>\n",
       "      <th>Zip-code</th>\n",
       "    </tr>\n",
       "  </thead>\n",
       "  <tbody>\n",
       "    <tr>\n",
       "      <th>0</th>\n",
       "      <td>1</td>\n",
       "      <td>Toy Story (1995)</td>\n",
       "      <td>Animation|Children's|Comedy</td>\n",
       "      <td>1</td>\n",
       "      <td>5</td>\n",
       "      <td>978824268</td>\n",
       "      <td>F</td>\n",
       "      <td>1</td>\n",
       "      <td>10</td>\n",
       "      <td>48067</td>\n",
       "    </tr>\n",
       "    <tr>\n",
       "      <th>1</th>\n",
       "      <td>1</td>\n",
       "      <td>Toy Story (1995)</td>\n",
       "      <td>Animation|Children's|Comedy</td>\n",
       "      <td>6</td>\n",
       "      <td>4</td>\n",
       "      <td>978237008</td>\n",
       "      <td>F</td>\n",
       "      <td>50</td>\n",
       "      <td>9</td>\n",
       "      <td>55117</td>\n",
       "    </tr>\n",
       "    <tr>\n",
       "      <th>2</th>\n",
       "      <td>1</td>\n",
       "      <td>Toy Story (1995)</td>\n",
       "      <td>Animation|Children's|Comedy</td>\n",
       "      <td>8</td>\n",
       "      <td>4</td>\n",
       "      <td>978233496</td>\n",
       "      <td>M</td>\n",
       "      <td>25</td>\n",
       "      <td>12</td>\n",
       "      <td>11413</td>\n",
       "    </tr>\n",
       "    <tr>\n",
       "      <th>3</th>\n",
       "      <td>1</td>\n",
       "      <td>Toy Story (1995)</td>\n",
       "      <td>Animation|Children's|Comedy</td>\n",
       "      <td>9</td>\n",
       "      <td>5</td>\n",
       "      <td>978225952</td>\n",
       "      <td>M</td>\n",
       "      <td>25</td>\n",
       "      <td>17</td>\n",
       "      <td>61614</td>\n",
       "    </tr>\n",
       "    <tr>\n",
       "      <th>4</th>\n",
       "      <td>1</td>\n",
       "      <td>Toy Story (1995)</td>\n",
       "      <td>Animation|Children's|Comedy</td>\n",
       "      <td>10</td>\n",
       "      <td>5</td>\n",
       "      <td>978226474</td>\n",
       "      <td>F</td>\n",
       "      <td>35</td>\n",
       "      <td>1</td>\n",
       "      <td>95370</td>\n",
       "    </tr>\n",
       "  </tbody>\n",
       "</table>\n",
       "</div>"
      ],
      "text/plain": [
       "   MovieID             Title                       Genres  UserID  Rating  \\\n",
       "0        1  Toy Story (1995)  Animation|Children's|Comedy       1       5   \n",
       "1        1  Toy Story (1995)  Animation|Children's|Comedy       6       4   \n",
       "2        1  Toy Story (1995)  Animation|Children's|Comedy       8       4   \n",
       "3        1  Toy Story (1995)  Animation|Children's|Comedy       9       5   \n",
       "4        1  Toy Story (1995)  Animation|Children's|Comedy      10       5   \n",
       "\n",
       "   Timestamp Gender  Age  Occupation Zip-code  \n",
       "0  978824268      F    1          10    48067  \n",
       "1  978237008      F   50           9    55117  \n",
       "2  978233496      M   25          12    11413  \n",
       "3  978225952      M   25          17    61614  \n",
       "4  978226474      F   35           1    95370  "
      ]
     },
     "execution_count": 6,
     "metadata": {},
     "output_type": "execute_result"
    }
   ],
   "source": [
    "master = mov.merge(df1, on='MovieID')\n",
    "master.head()"
   ]
  },
  {
   "cell_type": "code",
   "execution_count": 7,
   "metadata": {},
   "outputs": [
    {
     "data": {
      "text/plain": [
       "(1000209, 10)"
      ]
     },
     "execution_count": 7,
     "metadata": {},
     "output_type": "execute_result"
    }
   ],
   "source": [
    "master.shape"
   ]
  },
  {
   "cell_type": "code",
   "execution_count": 8,
   "metadata": {},
   "outputs": [
    {
     "name": "stdout",
     "output_type": "stream",
     "text": [
      "Duplicated : Empty DataFrame\n",
      "Columns: [MovieID, Title, Genres, UserID, Rating, Timestamp, Gender, Age, Occupation, Zip-code]\n",
      "Index: []\n"
     ]
    }
   ],
   "source": [
    "# Find the duplicate values in data\n",
    "print('Duplicated : {}' .format(master[master.duplicated()]))"
   ]
  },
  {
   "cell_type": "code",
   "execution_count": 9,
   "metadata": {},
   "outputs": [
    {
     "data": {
      "text/plain": [
       "Age\n",
       "1      27211\n",
       "18    183536\n",
       "25    395556\n",
       "35    199003\n",
       "45     83633\n",
       "50     72490\n",
       "56     38780\n",
       "dtype: int64"
      ]
     },
     "execution_count": 9,
     "metadata": {},
     "output_type": "execute_result"
    }
   ],
   "source": [
    "# grouped data to find distribution\n",
    "binned_age = master.groupby(['Age']).size()\n",
    "binned_age"
   ]
  },
  {
   "cell_type": "code",
   "execution_count": 10,
   "metadata": {},
   "outputs": [
    {
     "data": {
      "image/png": "[encoded data removed]",
      "text/plain": [
       "<Figure size 432x288 with 1 Axes>"
      ]
     },
     "metadata": {},
     "output_type": "display_data"
    }
   ],
   "source": [
    "# User Age Distribution\n",
    "binned_age.plot(kind='kde', label='Age Distribution');"
   ]
  },
  {
   "cell_type": "markdown",
   "metadata": {},
   "source": [
    "* It shows, more people between age group of 25-34 watch movies.\n",
    "* Age group is normally distributed"
   ]
  },
  {
   "cell_type": "code",
   "execution_count": 11,
   "metadata": {},
   "outputs": [
    {
     "data": {
      "text/plain": [
       "4    835\n",
       "5    820\n",
       "3    345\n",
       "2     61\n",
       "1     16\n",
       "Name: Rating, dtype: int64"
      ]
     },
     "execution_count": 11,
     "metadata": {},
     "output_type": "execute_result"
    }
   ],
   "source": [
    "# User rating of the movie “Toy Story”\n",
    "master.loc[(master.Title == 'Toy Story (1995)'),'Rating'].value_counts()"
   ]
  },
  {
   "cell_type": "code",
   "execution_count": 12,
   "metadata": {},
   "outputs": [
    {
     "data": {
      "text/plain": [
       "Title\n",
       "American Beauty (1999)                                   3428\n",
       "Star Wars: Episode IV - A New Hope (1977)                2991\n",
       "Star Wars: Episode V - The Empire Strikes Back (1980)    2990\n",
       "Star Wars: Episode VI - Return of the Jedi (1983)        2883\n",
       "Jurassic Park (1993)                                     2672\n",
       "Saving Private Ryan (1998)                               2653\n",
       "Terminator 2: Judgment Day (1991)                        2649\n",
       "Matrix, The (1999)                                       2590\n",
       "Back to the Future (1985)                                2583\n",
       "Silence of the Lambs, The (1991)                         2578\n",
       "Men in Black (1997)                                      2538\n",
       "Raiders of the Lost Ark (1981)                           2514\n",
       "Fargo (1996)                                             2513\n",
       "Sixth Sense, The (1999)                                  2459\n",
       "Braveheart (1995)                                        2443\n",
       "Shakespeare in Love (1998)                               2369\n",
       "Princess Bride, The (1987)                               2318\n",
       "Schindler's List (1993)                                  2304\n",
       "L.A. Confidential (1997)                                 2288\n",
       "Groundhog Day (1993)                                     2278\n",
       "E.T. the Extra-Terrestrial (1982)                        2269\n",
       "Star Wars: Episode I - The Phantom Menace (1999)         2250\n",
       "Being John Malkovich (1999)                              2241\n",
       "Shawshank Redemption, The (1994)                         2227\n",
       "Godfather, The (1972)                                    2223\n",
       "Name: Rating, dtype: int64"
      ]
     },
     "execution_count": 12,
     "metadata": {},
     "output_type": "execute_result"
    }
   ],
   "source": [
    "# Top 25 movies by viewership rating\n",
    "top25 = master.groupby(['Title'])['Rating'].count().sort_values(ascending=False)\n",
    "top25.head(25)"
   ]
  },
  {
   "cell_type": "code",
   "execution_count": 13,
   "metadata": {},
   "outputs": [
    {
     "data": {
      "text/plain": [
       "95261     3\n",
       "200536    5\n",
       "270342    4\n",
       "274576    3\n",
       "349333    4\n",
       "360382    2\n",
       "448293    3\n",
       "457193    4\n",
       "459835    4\n",
       "464473    2\n",
       "465069    4\n",
       "480658    4\n",
       "493231    4\n",
       "496926    4\n",
       "507001    4\n",
       "631867    2\n",
       "645948    4\n",
       "732119    1\n",
       "851313    4\n",
       "889623    1\n",
       "Name: Rating, dtype: int64"
      ]
     },
     "execution_count": 13,
     "metadata": {},
     "output_type": "execute_result"
    }
   ],
   "source": [
    "# Find the ratings for all the movies reviewed by for a particular \n",
    "# user of user id = 2696\n",
    "id_2696 = master.loc[master.UserID == 2696,'Rating']\n",
    "id_2696"
   ]
  },
  {
   "cell_type": "markdown",
   "metadata": {},
   "source": [
    "#### Feature Engineering"
   ]
  },
  {
   "cell_type": "code",
   "execution_count": 14,
   "metadata": {},
   "outputs": [
    {
     "data": {
      "text/html": [
       "<div>\n",
       "<style scoped>\n",
       "    .dataframe tbody tr th:only-of-type {\n",
       "        vertical-align: middle;\n",
       "    }\n",
       "\n",
       "    .dataframe tbody tr th {\n",
       "        vertical-align: top;\n",
       "    }\n",
       "\n",
       "    .dataframe thead th {\n",
       "        text-align: right;\n",
       "    }\n",
       "</style>\n",
       "<table border=\"1\" class=\"dataframe\">\n",
       "  <thead>\n",
       "    <tr style=\"text-align: right;\">\n",
       "      <th></th>\n",
       "      <th>0</th>\n",
       "      <th>1</th>\n",
       "      <th>2</th>\n",
       "      <th>3</th>\n",
       "      <th>4</th>\n",
       "      <th>5</th>\n",
       "    </tr>\n",
       "  </thead>\n",
       "  <tbody>\n",
       "    <tr>\n",
       "      <th>0</th>\n",
       "      <td>Animation</td>\n",
       "      <td>Children's</td>\n",
       "      <td>Comedy</td>\n",
       "      <td>None</td>\n",
       "      <td>None</td>\n",
       "      <td>None</td>\n",
       "    </tr>\n",
       "    <tr>\n",
       "      <th>1</th>\n",
       "      <td>Animation</td>\n",
       "      <td>Children's</td>\n",
       "      <td>Comedy</td>\n",
       "      <td>None</td>\n",
       "      <td>None</td>\n",
       "      <td>None</td>\n",
       "    </tr>\n",
       "    <tr>\n",
       "      <th>2</th>\n",
       "      <td>Animation</td>\n",
       "      <td>Children's</td>\n",
       "      <td>Comedy</td>\n",
       "      <td>None</td>\n",
       "      <td>None</td>\n",
       "      <td>None</td>\n",
       "    </tr>\n",
       "    <tr>\n",
       "      <th>3</th>\n",
       "      <td>Animation</td>\n",
       "      <td>Children's</td>\n",
       "      <td>Comedy</td>\n",
       "      <td>None</td>\n",
       "      <td>None</td>\n",
       "      <td>None</td>\n",
       "    </tr>\n",
       "    <tr>\n",
       "      <th>4</th>\n",
       "      <td>Animation</td>\n",
       "      <td>Children's</td>\n",
       "      <td>Comedy</td>\n",
       "      <td>None</td>\n",
       "      <td>None</td>\n",
       "      <td>None</td>\n",
       "    </tr>\n",
       "    <tr>\n",
       "      <th>...</th>\n",
       "      <td>...</td>\n",
       "      <td>...</td>\n",
       "      <td>...</td>\n",
       "      <td>...</td>\n",
       "      <td>...</td>\n",
       "      <td>...</td>\n",
       "    </tr>\n",
       "    <tr>\n",
       "      <th>1000204</th>\n",
       "      <td>Drama</td>\n",
       "      <td>Thriller</td>\n",
       "      <td>None</td>\n",
       "      <td>None</td>\n",
       "      <td>None</td>\n",
       "      <td>None</td>\n",
       "    </tr>\n",
       "    <tr>\n",
       "      <th>1000205</th>\n",
       "      <td>Drama</td>\n",
       "      <td>Thriller</td>\n",
       "      <td>None</td>\n",
       "      <td>None</td>\n",
       "      <td>None</td>\n",
       "      <td>None</td>\n",
       "    </tr>\n",
       "    <tr>\n",
       "      <th>1000206</th>\n",
       "      <td>Drama</td>\n",
       "      <td>Thriller</td>\n",
       "      <td>None</td>\n",
       "      <td>None</td>\n",
       "      <td>None</td>\n",
       "      <td>None</td>\n",
       "    </tr>\n",
       "    <tr>\n",
       "      <th>1000207</th>\n",
       "      <td>Drama</td>\n",
       "      <td>Thriller</td>\n",
       "      <td>None</td>\n",
       "      <td>None</td>\n",
       "      <td>None</td>\n",
       "      <td>None</td>\n",
       "    </tr>\n",
       "    <tr>\n",
       "      <th>1000208</th>\n",
       "      <td>Drama</td>\n",
       "      <td>Thriller</td>\n",
       "      <td>None</td>\n",
       "      <td>None</td>\n",
       "      <td>None</td>\n",
       "      <td>None</td>\n",
       "    </tr>\n",
       "  </tbody>\n",
       "</table>\n",
       "<p>1000209 rows × 6 columns</p>\n",
       "</div>"
      ],
      "text/plain": [
       "                 0           1       2     3     4     5\n",
       "0        Animation  Children's  Comedy  None  None  None\n",
       "1        Animation  Children's  Comedy  None  None  None\n",
       "2        Animation  Children's  Comedy  None  None  None\n",
       "3        Animation  Children's  Comedy  None  None  None\n",
       "4        Animation  Children's  Comedy  None  None  None\n",
       "...            ...         ...     ...   ...   ...   ...\n",
       "1000204      Drama    Thriller    None  None  None  None\n",
       "1000205      Drama    Thriller    None  None  None  None\n",
       "1000206      Drama    Thriller    None  None  None  None\n",
       "1000207      Drama    Thriller    None  None  None  None\n",
       "1000208      Drama    Thriller    None  None  None  None\n",
       "\n",
       "[1000209 rows x 6 columns]"
      ]
     },
     "execution_count": 14,
     "metadata": {},
     "output_type": "execute_result"
    }
   ],
   "source": [
    "genres = master['Genres'].str.split(\"|\",n=5, expand=True)\n",
    "genres "
   ]
  },
  {
   "cell_type": "code",
   "execution_count": 15,
   "metadata": {},
   "outputs": [
    {
     "data": {
      "text/plain": [
       "pandas.core.frame.DataFrame"
      ]
     },
     "execution_count": 15,
     "metadata": {},
     "output_type": "execute_result"
    }
   ],
   "source": [
    "type(genres)"
   ]
  },
  {
   "cell_type": "code",
   "execution_count": 16,
   "metadata": {},
   "outputs": [],
   "source": [
    "genre_list = genres.values.tolist()"
   ]
  },
  {
   "cell_type": "markdown",
   "metadata": {},
   "source": [
    "### * Find out all the unique genres (Hint: split the data in column genre making a list and then process the data to find out only the unique categories of genres)\n"
   ]
  },
  {
   "cell_type": "code",
   "execution_count": 17,
   "metadata": {},
   "outputs": [],
   "source": [
    "# split the data in column genre \n",
    "genre = pd.unique(master['Genres'].str.split('|',expand=True).stack())"
   ]
  },
  {
   "cell_type": "code",
   "execution_count": 18,
   "metadata": {},
   "outputs": [
    {
     "data": {
      "text/plain": [
       "numpy.ndarray"
      ]
     },
     "execution_count": 18,
     "metadata": {},
     "output_type": "execute_result"
    }
   ],
   "source": [
    "type(genre)"
   ]
  },
  {
   "cell_type": "code",
   "execution_count": 19,
   "metadata": {},
   "outputs": [
    {
     "data": {
      "text/plain": [
       "['Animation',\n",
       " \"Children's\",\n",
       " 'Comedy',\n",
       " 'Adventure',\n",
       " 'Fantasy',\n",
       " 'Romance',\n",
       " 'Drama',\n",
       " 'Action',\n",
       " 'Crime',\n",
       " 'Thriller',\n",
       " 'Horror',\n",
       " 'Sci-Fi',\n",
       " 'Documentary',\n",
       " 'War',\n",
       " 'Musical',\n",
       " 'Mystery',\n",
       " 'Film-Noir',\n",
       " 'Western']"
      ]
     },
     "execution_count": 19,
     "metadata": {},
     "output_type": "execute_result"
    }
   ],
   "source": [
    "# Making a list with unique values\n",
    "genre.tolist()"
   ]
  },
  {
   "cell_type": "markdown",
   "metadata": {},
   "source": [
    "### * Create a separate column for each genre category with a one-hot encoding ( 1 and 0) whether or not the movie belongs to that genre. "
   ]
  },
  {
   "cell_type": "code",
   "execution_count": 20,
   "metadata": {},
   "outputs": [
    {
     "data": {
      "text/html": [
       "<div>\n",
       "<style scoped>\n",
       "    .dataframe tbody tr th:only-of-type {\n",
       "        vertical-align: middle;\n",
       "    }\n",
       "\n",
       "    .dataframe tbody tr th {\n",
       "        vertical-align: top;\n",
       "    }\n",
       "\n",
       "    .dataframe thead th {\n",
       "        text-align: right;\n",
       "    }\n",
       "</style>\n",
       "<table border=\"1\" class=\"dataframe\">\n",
       "  <thead>\n",
       "    <tr style=\"text-align: right;\">\n",
       "      <th></th>\n",
       "      <th>Action</th>\n",
       "      <th>Adventure</th>\n",
       "      <th>Animation</th>\n",
       "      <th>Children's</th>\n",
       "      <th>Comedy</th>\n",
       "      <th>Crime</th>\n",
       "      <th>Documentary</th>\n",
       "      <th>Drama</th>\n",
       "      <th>Fantasy</th>\n",
       "      <th>Film-Noir</th>\n",
       "      <th>Horror</th>\n",
       "      <th>Musical</th>\n",
       "      <th>Mystery</th>\n",
       "      <th>Romance</th>\n",
       "      <th>Sci-Fi</th>\n",
       "      <th>Thriller</th>\n",
       "      <th>War</th>\n",
       "      <th>Western</th>\n",
       "    </tr>\n",
       "  </thead>\n",
       "  <tbody>\n",
       "    <tr>\n",
       "      <th>0</th>\n",
       "      <td>0</td>\n",
       "      <td>0</td>\n",
       "      <td>1</td>\n",
       "      <td>1</td>\n",
       "      <td>1</td>\n",
       "      <td>0</td>\n",
       "      <td>0</td>\n",
       "      <td>0</td>\n",
       "      <td>0</td>\n",
       "      <td>0</td>\n",
       "      <td>0</td>\n",
       "      <td>0</td>\n",
       "      <td>0</td>\n",
       "      <td>0</td>\n",
       "      <td>0</td>\n",
       "      <td>0</td>\n",
       "      <td>0</td>\n",
       "      <td>0</td>\n",
       "    </tr>\n",
       "    <tr>\n",
       "      <th>1</th>\n",
       "      <td>0</td>\n",
       "      <td>0</td>\n",
       "      <td>1</td>\n",
       "      <td>1</td>\n",
       "      <td>1</td>\n",
       "      <td>0</td>\n",
       "      <td>0</td>\n",
       "      <td>0</td>\n",
       "      <td>0</td>\n",
       "      <td>0</td>\n",
       "      <td>0</td>\n",
       "      <td>0</td>\n",
       "      <td>0</td>\n",
       "      <td>0</td>\n",
       "      <td>0</td>\n",
       "      <td>0</td>\n",
       "      <td>0</td>\n",
       "      <td>0</td>\n",
       "    </tr>\n",
       "    <tr>\n",
       "      <th>2</th>\n",
       "      <td>0</td>\n",
       "      <td>0</td>\n",
       "      <td>1</td>\n",
       "      <td>1</td>\n",
       "      <td>1</td>\n",
       "      <td>0</td>\n",
       "      <td>0</td>\n",
       "      <td>0</td>\n",
       "      <td>0</td>\n",
       "      <td>0</td>\n",
       "      <td>0</td>\n",
       "      <td>0</td>\n",
       "      <td>0</td>\n",
       "      <td>0</td>\n",
       "      <td>0</td>\n",
       "      <td>0</td>\n",
       "      <td>0</td>\n",
       "      <td>0</td>\n",
       "    </tr>\n",
       "    <tr>\n",
       "      <th>3</th>\n",
       "      <td>0</td>\n",
       "      <td>0</td>\n",
       "      <td>1</td>\n",
       "      <td>1</td>\n",
       "      <td>1</td>\n",
       "      <td>0</td>\n",
       "      <td>0</td>\n",
       "      <td>0</td>\n",
       "      <td>0</td>\n",
       "      <td>0</td>\n",
       "      <td>0</td>\n",
       "      <td>0</td>\n",
       "      <td>0</td>\n",
       "      <td>0</td>\n",
       "      <td>0</td>\n",
       "      <td>0</td>\n",
       "      <td>0</td>\n",
       "      <td>0</td>\n",
       "    </tr>\n",
       "    <tr>\n",
       "      <th>4</th>\n",
       "      <td>0</td>\n",
       "      <td>0</td>\n",
       "      <td>1</td>\n",
       "      <td>1</td>\n",
       "      <td>1</td>\n",
       "      <td>0</td>\n",
       "      <td>0</td>\n",
       "      <td>0</td>\n",
       "      <td>0</td>\n",
       "      <td>0</td>\n",
       "      <td>0</td>\n",
       "      <td>0</td>\n",
       "      <td>0</td>\n",
       "      <td>0</td>\n",
       "      <td>0</td>\n",
       "      <td>0</td>\n",
       "      <td>0</td>\n",
       "      <td>0</td>\n",
       "    </tr>\n",
       "    <tr>\n",
       "      <th>...</th>\n",
       "      <td>...</td>\n",
       "      <td>...</td>\n",
       "      <td>...</td>\n",
       "      <td>...</td>\n",
       "      <td>...</td>\n",
       "      <td>...</td>\n",
       "      <td>...</td>\n",
       "      <td>...</td>\n",
       "      <td>...</td>\n",
       "      <td>...</td>\n",
       "      <td>...</td>\n",
       "      <td>...</td>\n",
       "      <td>...</td>\n",
       "      <td>...</td>\n",
       "      <td>...</td>\n",
       "      <td>...</td>\n",
       "      <td>...</td>\n",
       "      <td>...</td>\n",
       "    </tr>\n",
       "    <tr>\n",
       "      <th>1000204</th>\n",
       "      <td>0</td>\n",
       "      <td>0</td>\n",
       "      <td>0</td>\n",
       "      <td>0</td>\n",
       "      <td>0</td>\n",
       "      <td>0</td>\n",
       "      <td>0</td>\n",
       "      <td>1</td>\n",
       "      <td>0</td>\n",
       "      <td>0</td>\n",
       "      <td>0</td>\n",
       "      <td>0</td>\n",
       "      <td>0</td>\n",
       "      <td>0</td>\n",
       "      <td>0</td>\n",
       "      <td>1</td>\n",
       "      <td>0</td>\n",
       "      <td>0</td>\n",
       "    </tr>\n",
       "    <tr>\n",
       "      <th>1000205</th>\n",
       "      <td>0</td>\n",
       "      <td>0</td>\n",
       "      <td>0</td>\n",
       "      <td>0</td>\n",
       "      <td>0</td>\n",
       "      <td>0</td>\n",
       "      <td>0</td>\n",
       "      <td>1</td>\n",
       "      <td>0</td>\n",
       "      <td>0</td>\n",
       "      <td>0</td>\n",
       "      <td>0</td>\n",
       "      <td>0</td>\n",
       "      <td>0</td>\n",
       "      <td>0</td>\n",
       "      <td>1</td>\n",
       "      <td>0</td>\n",
       "      <td>0</td>\n",
       "    </tr>\n",
       "    <tr>\n",
       "      <th>1000206</th>\n",
       "      <td>0</td>\n",
       "      <td>0</td>\n",
       "      <td>0</td>\n",
       "      <td>0</td>\n",
       "      <td>0</td>\n",
       "      <td>0</td>\n",
       "      <td>0</td>\n",
       "      <td>1</td>\n",
       "      <td>0</td>\n",
       "      <td>0</td>\n",
       "      <td>0</td>\n",
       "      <td>0</td>\n",
       "      <td>0</td>\n",
       "      <td>0</td>\n",
       "      <td>0</td>\n",
       "      <td>1</td>\n",
       "      <td>0</td>\n",
       "      <td>0</td>\n",
       "    </tr>\n",
       "    <tr>\n",
       "      <th>1000207</th>\n",
       "      <td>0</td>\n",
       "      <td>0</td>\n",
       "      <td>0</td>\n",
       "      <td>0</td>\n",
       "      <td>0</td>\n",
       "      <td>0</td>\n",
       "      <td>0</td>\n",
       "      <td>1</td>\n",
       "      <td>0</td>\n",
       "      <td>0</td>\n",
       "      <td>0</td>\n",
       "      <td>0</td>\n",
       "      <td>0</td>\n",
       "      <td>0</td>\n",
       "      <td>0</td>\n",
       "      <td>1</td>\n",
       "      <td>0</td>\n",
       "      <td>0</td>\n",
       "    </tr>\n",
       "    <tr>\n",
       "      <th>1000208</th>\n",
       "      <td>0</td>\n",
       "      <td>0</td>\n",
       "      <td>0</td>\n",
       "      <td>0</td>\n",
       "      <td>0</td>\n",
       "      <td>0</td>\n",
       "      <td>0</td>\n",
       "      <td>1</td>\n",
       "      <td>0</td>\n",
       "      <td>0</td>\n",
       "      <td>0</td>\n",
       "      <td>0</td>\n",
       "      <td>0</td>\n",
       "      <td>0</td>\n",
       "      <td>0</td>\n",
       "      <td>1</td>\n",
       "      <td>0</td>\n",
       "      <td>0</td>\n",
       "    </tr>\n",
       "  </tbody>\n",
       "</table>\n",
       "<p>1000209 rows × 18 columns</p>\n",
       "</div>"
      ],
      "text/plain": [
       "         Action  Adventure  Animation  Children's  Comedy  Crime  Documentary  \\\n",
       "0             0          0          1           1       1      0            0   \n",
       "1             0          0          1           1       1      0            0   \n",
       "2             0          0          1           1       1      0            0   \n",
       "3             0          0          1           1       1      0            0   \n",
       "4             0          0          1           1       1      0            0   \n",
       "...         ...        ...        ...         ...     ...    ...          ...   \n",
       "1000204       0          0          0           0       0      0            0   \n",
       "1000205       0          0          0           0       0      0            0   \n",
       "1000206       0          0          0           0       0      0            0   \n",
       "1000207       0          0          0           0       0      0            0   \n",
       "1000208       0          0          0           0       0      0            0   \n",
       "\n",
       "         Drama  Fantasy  Film-Noir  Horror  Musical  Mystery  Romance  Sci-Fi  \\\n",
       "0            0        0          0       0        0        0        0       0   \n",
       "1            0        0          0       0        0        0        0       0   \n",
       "2            0        0          0       0        0        0        0       0   \n",
       "3            0        0          0       0        0        0        0       0   \n",
       "4            0        0          0       0        0        0        0       0   \n",
       "...        ...      ...        ...     ...      ...      ...      ...     ...   \n",
       "1000204      1        0          0       0        0        0        0       0   \n",
       "1000205      1        0          0       0        0        0        0       0   \n",
       "1000206      1        0          0       0        0        0        0       0   \n",
       "1000207      1        0          0       0        0        0        0       0   \n",
       "1000208      1        0          0       0        0        0        0       0   \n",
       "\n",
       "         Thriller  War  Western  \n",
       "0               0    0        0  \n",
       "1               0    0        0  \n",
       "2               0    0        0  \n",
       "3               0    0        0  \n",
       "4               0    0        0  \n",
       "...           ...  ...      ...  \n",
       "1000204         1    0        0  \n",
       "1000205         1    0        0  \n",
       "1000206         1    0        0  \n",
       "1000207         1    0        0  \n",
       "1000208         1    0        0  \n",
       "\n",
       "[1000209 rows x 18 columns]"
      ]
     },
     "execution_count": 20,
     "metadata": {},
     "output_type": "execute_result"
    }
   ],
   "source": [
    "genre_dummies = pd.get_dummies(master['Genres'].str.split('|',expand=True).stack()).max(level=0)\n",
    "# remove duplicates by 'max'\n",
    "genre_dummies"
   ]
  },
  {
   "cell_type": "code",
   "execution_count": 21,
   "metadata": {},
   "outputs": [
    {
     "data": {
      "text/plain": [
       "pandas.core.frame.DataFrame"
      ]
     },
     "execution_count": 21,
     "metadata": {},
     "output_type": "execute_result"
    }
   ],
   "source": [
    "type(genre_dummies)"
   ]
  },
  {
   "cell_type": "markdown",
   "metadata": {},
   "source": [
    "### * Create a separate column for each genre category with a one-hot encoding ( 1 and 0) whether or not the movie belongs to that genre. \n"
   ]
  },
  {
   "cell_type": "code",
   "execution_count": 22,
   "metadata": {},
   "outputs": [
    {
     "data": {
      "text/plain": [
       "(1000209, 10)"
      ]
     },
     "execution_count": 22,
     "metadata": {},
     "output_type": "execute_result"
    }
   ],
   "source": [
    "master.shape"
   ]
  },
  {
   "cell_type": "code",
   "execution_count": 23,
   "metadata": {},
   "outputs": [
    {
     "data": {
      "text/html": [
       "<div>\n",
       "<style scoped>\n",
       "    .dataframe tbody tr th:only-of-type {\n",
       "        vertical-align: middle;\n",
       "    }\n",
       "\n",
       "    .dataframe tbody tr th {\n",
       "        vertical-align: top;\n",
       "    }\n",
       "\n",
       "    .dataframe thead th {\n",
       "        text-align: right;\n",
       "    }\n",
       "</style>\n",
       "<table border=\"1\" class=\"dataframe\">\n",
       "  <thead>\n",
       "    <tr style=\"text-align: right;\">\n",
       "      <th></th>\n",
       "      <th>MovieID</th>\n",
       "      <th>Title</th>\n",
       "      <th>UserID</th>\n",
       "      <th>Rating</th>\n",
       "      <th>Timestamp</th>\n",
       "      <th>Gender</th>\n",
       "      <th>Age</th>\n",
       "      <th>Occupation</th>\n",
       "      <th>Zip-code</th>\n",
       "      <th>Action</th>\n",
       "      <th>...</th>\n",
       "      <th>Fantasy</th>\n",
       "      <th>Film-Noir</th>\n",
       "      <th>Horror</th>\n",
       "      <th>Musical</th>\n",
       "      <th>Mystery</th>\n",
       "      <th>Romance</th>\n",
       "      <th>Sci-Fi</th>\n",
       "      <th>Thriller</th>\n",
       "      <th>War</th>\n",
       "      <th>Western</th>\n",
       "    </tr>\n",
       "  </thead>\n",
       "  <tbody>\n",
       "    <tr>\n",
       "      <th>0</th>\n",
       "      <td>1</td>\n",
       "      <td>Toy Story (1995)</td>\n",
       "      <td>1</td>\n",
       "      <td>5</td>\n",
       "      <td>978824268</td>\n",
       "      <td>F</td>\n",
       "      <td>1</td>\n",
       "      <td>10</td>\n",
       "      <td>48067</td>\n",
       "      <td>0</td>\n",
       "      <td>...</td>\n",
       "      <td>0</td>\n",
       "      <td>0</td>\n",
       "      <td>0</td>\n",
       "      <td>0</td>\n",
       "      <td>0</td>\n",
       "      <td>0</td>\n",
       "      <td>0</td>\n",
       "      <td>0</td>\n",
       "      <td>0</td>\n",
       "      <td>0</td>\n",
       "    </tr>\n",
       "    <tr>\n",
       "      <th>1</th>\n",
       "      <td>1</td>\n",
       "      <td>Toy Story (1995)</td>\n",
       "      <td>6</td>\n",
       "      <td>4</td>\n",
       "      <td>978237008</td>\n",
       "      <td>F</td>\n",
       "      <td>50</td>\n",
       "      <td>9</td>\n",
       "      <td>55117</td>\n",
       "      <td>0</td>\n",
       "      <td>...</td>\n",
       "      <td>0</td>\n",
       "      <td>0</td>\n",
       "      <td>0</td>\n",
       "      <td>0</td>\n",
       "      <td>0</td>\n",
       "      <td>0</td>\n",
       "      <td>0</td>\n",
       "      <td>0</td>\n",
       "      <td>0</td>\n",
       "      <td>0</td>\n",
       "    </tr>\n",
       "    <tr>\n",
       "      <th>2</th>\n",
       "      <td>1</td>\n",
       "      <td>Toy Story (1995)</td>\n",
       "      <td>8</td>\n",
       "      <td>4</td>\n",
       "      <td>978233496</td>\n",
       "      <td>M</td>\n",
       "      <td>25</td>\n",
       "      <td>12</td>\n",
       "      <td>11413</td>\n",
       "      <td>0</td>\n",
       "      <td>...</td>\n",
       "      <td>0</td>\n",
       "      <td>0</td>\n",
       "      <td>0</td>\n",
       "      <td>0</td>\n",
       "      <td>0</td>\n",
       "      <td>0</td>\n",
       "      <td>0</td>\n",
       "      <td>0</td>\n",
       "      <td>0</td>\n",
       "      <td>0</td>\n",
       "    </tr>\n",
       "    <tr>\n",
       "      <th>3</th>\n",
       "      <td>1</td>\n",
       "      <td>Toy Story (1995)</td>\n",
       "      <td>9</td>\n",
       "      <td>5</td>\n",
       "      <td>978225952</td>\n",
       "      <td>M</td>\n",
       "      <td>25</td>\n",
       "      <td>17</td>\n",
       "      <td>61614</td>\n",
       "      <td>0</td>\n",
       "      <td>...</td>\n",
       "      <td>0</td>\n",
       "      <td>0</td>\n",
       "      <td>0</td>\n",
       "      <td>0</td>\n",
       "      <td>0</td>\n",
       "      <td>0</td>\n",
       "      <td>0</td>\n",
       "      <td>0</td>\n",
       "      <td>0</td>\n",
       "      <td>0</td>\n",
       "    </tr>\n",
       "    <tr>\n",
       "      <th>4</th>\n",
       "      <td>1</td>\n",
       "      <td>Toy Story (1995)</td>\n",
       "      <td>10</td>\n",
       "      <td>5</td>\n",
       "      <td>978226474</td>\n",
       "      <td>F</td>\n",
       "      <td>35</td>\n",
       "      <td>1</td>\n",
       "      <td>95370</td>\n",
       "      <td>0</td>\n",
       "      <td>...</td>\n",
       "      <td>0</td>\n",
       "      <td>0</td>\n",
       "      <td>0</td>\n",
       "      <td>0</td>\n",
       "      <td>0</td>\n",
       "      <td>0</td>\n",
       "      <td>0</td>\n",
       "      <td>0</td>\n",
       "      <td>0</td>\n",
       "      <td>0</td>\n",
       "    </tr>\n",
       "    <tr>\n",
       "      <th>...</th>\n",
       "      <td>...</td>\n",
       "      <td>...</td>\n",
       "      <td>...</td>\n",
       "      <td>...</td>\n",
       "      <td>...</td>\n",
       "      <td>...</td>\n",
       "      <td>...</td>\n",
       "      <td>...</td>\n",
       "      <td>...</td>\n",
       "      <td>...</td>\n",
       "      <td>...</td>\n",
       "      <td>...</td>\n",
       "      <td>...</td>\n",
       "      <td>...</td>\n",
       "      <td>...</td>\n",
       "      <td>...</td>\n",
       "      <td>...</td>\n",
       "      <td>...</td>\n",
       "      <td>...</td>\n",
       "      <td>...</td>\n",
       "      <td>...</td>\n",
       "    </tr>\n",
       "    <tr>\n",
       "      <th>1000204</th>\n",
       "      <td>3952</td>\n",
       "      <td>Contender, The (2000)</td>\n",
       "      <td>5812</td>\n",
       "      <td>4</td>\n",
       "      <td>992072099</td>\n",
       "      <td>F</td>\n",
       "      <td>25</td>\n",
       "      <td>7</td>\n",
       "      <td>92120</td>\n",
       "      <td>0</td>\n",
       "      <td>...</td>\n",
       "      <td>0</td>\n",
       "      <td>0</td>\n",
       "      <td>0</td>\n",
       "      <td>0</td>\n",
       "      <td>0</td>\n",
       "      <td>0</td>\n",
       "      <td>0</td>\n",
       "      <td>1</td>\n",
       "      <td>0</td>\n",
       "      <td>0</td>\n",
       "    </tr>\n",
       "    <tr>\n",
       "      <th>1000205</th>\n",
       "      <td>3952</td>\n",
       "      <td>Contender, The (2000)</td>\n",
       "      <td>5831</td>\n",
       "      <td>3</td>\n",
       "      <td>986223125</td>\n",
       "      <td>M</td>\n",
       "      <td>25</td>\n",
       "      <td>1</td>\n",
       "      <td>92120</td>\n",
       "      <td>0</td>\n",
       "      <td>...</td>\n",
       "      <td>0</td>\n",
       "      <td>0</td>\n",
       "      <td>0</td>\n",
       "      <td>0</td>\n",
       "      <td>0</td>\n",
       "      <td>0</td>\n",
       "      <td>0</td>\n",
       "      <td>1</td>\n",
       "      <td>0</td>\n",
       "      <td>0</td>\n",
       "    </tr>\n",
       "    <tr>\n",
       "      <th>1000206</th>\n",
       "      <td>3952</td>\n",
       "      <td>Contender, The (2000)</td>\n",
       "      <td>5837</td>\n",
       "      <td>4</td>\n",
       "      <td>1011902656</td>\n",
       "      <td>M</td>\n",
       "      <td>25</td>\n",
       "      <td>7</td>\n",
       "      <td>60607</td>\n",
       "      <td>0</td>\n",
       "      <td>...</td>\n",
       "      <td>0</td>\n",
       "      <td>0</td>\n",
       "      <td>0</td>\n",
       "      <td>0</td>\n",
       "      <td>0</td>\n",
       "      <td>0</td>\n",
       "      <td>0</td>\n",
       "      <td>1</td>\n",
       "      <td>0</td>\n",
       "      <td>0</td>\n",
       "    </tr>\n",
       "    <tr>\n",
       "      <th>1000207</th>\n",
       "      <td>3952</td>\n",
       "      <td>Contender, The (2000)</td>\n",
       "      <td>5927</td>\n",
       "      <td>1</td>\n",
       "      <td>979852537</td>\n",
       "      <td>M</td>\n",
       "      <td>35</td>\n",
       "      <td>14</td>\n",
       "      <td>10003</td>\n",
       "      <td>0</td>\n",
       "      <td>...</td>\n",
       "      <td>0</td>\n",
       "      <td>0</td>\n",
       "      <td>0</td>\n",
       "      <td>0</td>\n",
       "      <td>0</td>\n",
       "      <td>0</td>\n",
       "      <td>0</td>\n",
       "      <td>1</td>\n",
       "      <td>0</td>\n",
       "      <td>0</td>\n",
       "    </tr>\n",
       "    <tr>\n",
       "      <th>1000208</th>\n",
       "      <td>3952</td>\n",
       "      <td>Contender, The (2000)</td>\n",
       "      <td>5998</td>\n",
       "      <td>4</td>\n",
       "      <td>1001781044</td>\n",
       "      <td>M</td>\n",
       "      <td>18</td>\n",
       "      <td>4</td>\n",
       "      <td>61820</td>\n",
       "      <td>0</td>\n",
       "      <td>...</td>\n",
       "      <td>0</td>\n",
       "      <td>0</td>\n",
       "      <td>0</td>\n",
       "      <td>0</td>\n",
       "      <td>0</td>\n",
       "      <td>0</td>\n",
       "      <td>0</td>\n",
       "      <td>1</td>\n",
       "      <td>0</td>\n",
       "      <td>0</td>\n",
       "    </tr>\n",
       "  </tbody>\n",
       "</table>\n",
       "<p>1000209 rows × 27 columns</p>\n",
       "</div>"
      ],
      "text/plain": [
       "         MovieID                  Title  UserID  Rating   Timestamp Gender  \\\n",
       "0              1       Toy Story (1995)       1       5   978824268      F   \n",
       "1              1       Toy Story (1995)       6       4   978237008      F   \n",
       "2              1       Toy Story (1995)       8       4   978233496      M   \n",
       "3              1       Toy Story (1995)       9       5   978225952      M   \n",
       "4              1       Toy Story (1995)      10       5   978226474      F   \n",
       "...          ...                    ...     ...     ...         ...    ...   \n",
       "1000204     3952  Contender, The (2000)    5812       4   992072099      F   \n",
       "1000205     3952  Contender, The (2000)    5831       3   986223125      M   \n",
       "1000206     3952  Contender, The (2000)    5837       4  1011902656      M   \n",
       "1000207     3952  Contender, The (2000)    5927       1   979852537      M   \n",
       "1000208     3952  Contender, The (2000)    5998       4  1001781044      M   \n",
       "\n",
       "         Age  Occupation Zip-code  Action  ...  Fantasy  Film-Noir  Horror  \\\n",
       "0          1          10    48067       0  ...        0          0       0   \n",
       "1         50           9    55117       0  ...        0          0       0   \n",
       "2         25          12    11413       0  ...        0          0       0   \n",
       "3         25          17    61614       0  ...        0          0       0   \n",
       "4         35           1    95370       0  ...        0          0       0   \n",
       "...      ...         ...      ...     ...  ...      ...        ...     ...   \n",
       "1000204   25           7    92120       0  ...        0          0       0   \n",
       "1000205   25           1    92120       0  ...        0          0       0   \n",
       "1000206   25           7    60607       0  ...        0          0       0   \n",
       "1000207   35          14    10003       0  ...        0          0       0   \n",
       "1000208   18           4    61820       0  ...        0          0       0   \n",
       "\n",
       "         Musical  Mystery  Romance  Sci-Fi  Thriller  War  Western  \n",
       "0              0        0        0       0         0    0        0  \n",
       "1              0        0        0       0         0    0        0  \n",
       "2              0        0        0       0         0    0        0  \n",
       "3              0        0        0       0         0    0        0  \n",
       "4              0        0        0       0         0    0        0  \n",
       "...          ...      ...      ...     ...       ...  ...      ...  \n",
       "1000204        0        0        0       0         1    0        0  \n",
       "1000205        0        0        0       0         1    0        0  \n",
       "1000206        0        0        0       0         1    0        0  \n",
       "1000207        0        0        0       0         1    0        0  \n",
       "1000208        0        0        0       0         1    0        0  \n",
       "\n",
       "[1000209 rows x 27 columns]"
      ]
     },
     "execution_count": 23,
     "metadata": {},
     "output_type": "execute_result"
    }
   ],
   "source": [
    "master_df = pd.concat([master.drop('Genres',axis=1),genre_dummies],axis=1)\n",
    "master_df"
   ]
  },
  {
   "cell_type": "markdown",
   "metadata": {},
   "source": [
    "### * Determine the features affecting the ratings of any particular movie.\n",
    "* Develop an appropriate model to predict the movie ratings"
   ]
  },
  {
   "cell_type": "code",
   "execution_count": 24,
   "metadata": {},
   "outputs": [
    {
     "data": {
      "text/html": [
       "<div>\n",
       "<style scoped>\n",
       "    .dataframe tbody tr th:only-of-type {\n",
       "        vertical-align: middle;\n",
       "    }\n",
       "\n",
       "    .dataframe tbody tr th {\n",
       "        vertical-align: top;\n",
       "    }\n",
       "\n",
       "    .dataframe thead th {\n",
       "        text-align: right;\n",
       "    }\n",
       "</style>\n",
       "<table border=\"1\" class=\"dataframe\">\n",
       "  <thead>\n",
       "    <tr style=\"text-align: right;\">\n",
       "      <th></th>\n",
       "      <th>MovieID</th>\n",
       "      <th>UserID</th>\n",
       "      <th>Rating</th>\n",
       "      <th>Timestamp</th>\n",
       "      <th>Age</th>\n",
       "      <th>Occupation</th>\n",
       "    </tr>\n",
       "  </thead>\n",
       "  <tbody>\n",
       "    <tr>\n",
       "      <th>MovieID</th>\n",
       "      <td>1.000000</td>\n",
       "      <td>-0.017739</td>\n",
       "      <td>-0.064042</td>\n",
       "      <td>0.041632</td>\n",
       "      <td>0.027575</td>\n",
       "      <td>0.008585</td>\n",
       "    </tr>\n",
       "    <tr>\n",
       "      <th>UserID</th>\n",
       "      <td>-0.017739</td>\n",
       "      <td>1.000000</td>\n",
       "      <td>0.012303</td>\n",
       "      <td>-0.490383</td>\n",
       "      <td>0.034688</td>\n",
       "      <td>-0.026698</td>\n",
       "    </tr>\n",
       "    <tr>\n",
       "      <th>Rating</th>\n",
       "      <td>-0.064042</td>\n",
       "      <td>0.012303</td>\n",
       "      <td>1.000000</td>\n",
       "      <td>-0.026770</td>\n",
       "      <td>0.056869</td>\n",
       "      <td>0.006753</td>\n",
       "    </tr>\n",
       "    <tr>\n",
       "      <th>Timestamp</th>\n",
       "      <td>0.041632</td>\n",
       "      <td>-0.490383</td>\n",
       "      <td>-0.026770</td>\n",
       "      <td>1.000000</td>\n",
       "      <td>-0.064562</td>\n",
       "      <td>0.015646</td>\n",
       "    </tr>\n",
       "    <tr>\n",
       "      <th>Age</th>\n",
       "      <td>0.027575</td>\n",
       "      <td>0.034688</td>\n",
       "      <td>0.056869</td>\n",
       "      <td>-0.064562</td>\n",
       "      <td>1.000000</td>\n",
       "      <td>0.078371</td>\n",
       "    </tr>\n",
       "    <tr>\n",
       "      <th>Occupation</th>\n",
       "      <td>0.008585</td>\n",
       "      <td>-0.026698</td>\n",
       "      <td>0.006753</td>\n",
       "      <td>0.015646</td>\n",
       "      <td>0.078371</td>\n",
       "      <td>1.000000</td>\n",
       "    </tr>\n",
       "  </tbody>\n",
       "</table>\n",
       "</div>"
      ],
      "text/plain": [
       "             MovieID    UserID    Rating  Timestamp       Age  Occupation\n",
       "MovieID     1.000000 -0.017739 -0.064042   0.041632  0.027575    0.008585\n",
       "UserID     -0.017739  1.000000  0.012303  -0.490383  0.034688   -0.026698\n",
       "Rating     -0.064042  0.012303  1.000000  -0.026770  0.056869    0.006753\n",
       "Timestamp   0.041632 -0.490383 -0.026770   1.000000 -0.064562    0.015646\n",
       "Age         0.027575  0.034688  0.056869  -0.064562  1.000000    0.078371\n",
       "Occupation  0.008585 -0.026698  0.006753   0.015646  0.078371    1.000000"
      ]
     },
     "execution_count": 24,
     "metadata": {},
     "output_type": "execute_result"
    }
   ],
   "source": [
    "# Correlation\n",
    "master.corr()"
   ]
  },
  {
   "cell_type": "code",
   "execution_count": 25,
   "metadata": {},
   "outputs": [
    {
     "data": {
      "text/plain": [
       "(1000209, 10)"
      ]
     },
     "execution_count": 25,
     "metadata": {},
     "output_type": "execute_result"
    }
   ],
   "source": [
    "master.shape"
   ]
  },
  {
   "cell_type": "code",
   "execution_count": 26,
   "metadata": {},
   "outputs": [
    {
     "data": {
      "text/html": [
       "<div>\n",
       "<style scoped>\n",
       "    .dataframe tbody tr th:only-of-type {\n",
       "        vertical-align: middle;\n",
       "    }\n",
       "\n",
       "    .dataframe tbody tr th {\n",
       "        vertical-align: top;\n",
       "    }\n",
       "\n",
       "    .dataframe thead th {\n",
       "        text-align: right;\n",
       "    }\n",
       "</style>\n",
       "<table border=\"1\" class=\"dataframe\">\n",
       "  <thead>\n",
       "    <tr style=\"text-align: right;\">\n",
       "      <th></th>\n",
       "      <th>MovieID</th>\n",
       "      <th>Title</th>\n",
       "      <th>Genres</th>\n",
       "      <th>UserID</th>\n",
       "      <th>Rating</th>\n",
       "      <th>Timestamp</th>\n",
       "      <th>Gender</th>\n",
       "      <th>Age</th>\n",
       "      <th>Occupation</th>\n",
       "      <th>Zip-code</th>\n",
       "    </tr>\n",
       "  </thead>\n",
       "  <tbody>\n",
       "    <tr>\n",
       "      <th>0</th>\n",
       "      <td>1</td>\n",
       "      <td>Toy Story (1995)</td>\n",
       "      <td>Animation|Children's|Comedy</td>\n",
       "      <td>1</td>\n",
       "      <td>5</td>\n",
       "      <td>978824268</td>\n",
       "      <td>F</td>\n",
       "      <td>1</td>\n",
       "      <td>10</td>\n",
       "      <td>48067</td>\n",
       "    </tr>\n",
       "    <tr>\n",
       "      <th>1</th>\n",
       "      <td>1</td>\n",
       "      <td>Toy Story (1995)</td>\n",
       "      <td>Animation|Children's|Comedy</td>\n",
       "      <td>6</td>\n",
       "      <td>4</td>\n",
       "      <td>978237008</td>\n",
       "      <td>F</td>\n",
       "      <td>50</td>\n",
       "      <td>9</td>\n",
       "      <td>55117</td>\n",
       "    </tr>\n",
       "    <tr>\n",
       "      <th>2</th>\n",
       "      <td>1</td>\n",
       "      <td>Toy Story (1995)</td>\n",
       "      <td>Animation|Children's|Comedy</td>\n",
       "      <td>8</td>\n",
       "      <td>4</td>\n",
       "      <td>978233496</td>\n",
       "      <td>M</td>\n",
       "      <td>25</td>\n",
       "      <td>12</td>\n",
       "      <td>11413</td>\n",
       "    </tr>\n",
       "    <tr>\n",
       "      <th>3</th>\n",
       "      <td>1</td>\n",
       "      <td>Toy Story (1995)</td>\n",
       "      <td>Animation|Children's|Comedy</td>\n",
       "      <td>9</td>\n",
       "      <td>5</td>\n",
       "      <td>978225952</td>\n",
       "      <td>M</td>\n",
       "      <td>25</td>\n",
       "      <td>17</td>\n",
       "      <td>61614</td>\n",
       "    </tr>\n",
       "    <tr>\n",
       "      <th>4</th>\n",
       "      <td>1</td>\n",
       "      <td>Toy Story (1995)</td>\n",
       "      <td>Animation|Children's|Comedy</td>\n",
       "      <td>10</td>\n",
       "      <td>5</td>\n",
       "      <td>978226474</td>\n",
       "      <td>F</td>\n",
       "      <td>35</td>\n",
       "      <td>1</td>\n",
       "      <td>95370</td>\n",
       "    </tr>\n",
       "  </tbody>\n",
       "</table>\n",
       "</div>"
      ],
      "text/plain": [
       "   MovieID             Title                       Genres  UserID  Rating  \\\n",
       "0        1  Toy Story (1995)  Animation|Children's|Comedy       1       5   \n",
       "1        1  Toy Story (1995)  Animation|Children's|Comedy       6       4   \n",
       "2        1  Toy Story (1995)  Animation|Children's|Comedy       8       4   \n",
       "3        1  Toy Story (1995)  Animation|Children's|Comedy       9       5   \n",
       "4        1  Toy Story (1995)  Animation|Children's|Comedy      10       5   \n",
       "\n",
       "   Timestamp Gender  Age  Occupation Zip-code  \n",
       "0  978824268      F    1          10    48067  \n",
       "1  978237008      F   50           9    55117  \n",
       "2  978233496      M   25          12    11413  \n",
       "3  978225952      M   25          17    61614  \n",
       "4  978226474      F   35           1    95370  "
      ]
     },
     "execution_count": 26,
     "metadata": {},
     "output_type": "execute_result"
    }
   ],
   "source": [
    "master.head()"
   ]
  },
  {
   "cell_type": "code",
   "execution_count": 27,
   "metadata": {},
   "outputs": [],
   "source": [
    "from scipy import stats\n",
    "import statsmodels.api as sm\n",
    "from statsmodels.formula.api import ols"
   ]
  },
  {
   "cell_type": "code",
   "execution_count": 28,
   "metadata": {},
   "outputs": [
    {
     "data": {
      "text/plain": [
       "Index(['MovieID', 'Title', 'Genres', 'UserID', 'Rating', 'Timestamp', 'Gender',\n",
       "       'Age', 'Occupation', 'Zip-code'],\n",
       "      dtype='object')"
      ]
     },
     "execution_count": 28,
     "metadata": {},
     "output_type": "execute_result"
    }
   ],
   "source": [
    "master.columns"
   ]
  },
  {
   "cell_type": "code",
   "execution_count": 29,
   "metadata": {},
   "outputs": [
    {
     "data": {
      "text/plain": [
       "array(['F', 'M'], dtype=object)"
      ]
     },
     "execution_count": 29,
     "metadata": {},
     "output_type": "execute_result"
    }
   ],
   "source": [
    "pd.unique(master_df['Gender'])"
   ]
  },
  {
   "cell_type": "code",
   "execution_count": 30,
   "metadata": {},
   "outputs": [],
   "source": [
    "master_df['Gender'] = master_df['Gender'].map({'M':0, 'F':1})"
   ]
  },
  {
   "cell_type": "code",
   "execution_count": 31,
   "metadata": {},
   "outputs": [
    {
     "data": {
      "text/html": [
       "<div>\n",
       "<style scoped>\n",
       "    .dataframe tbody tr th:only-of-type {\n",
       "        vertical-align: middle;\n",
       "    }\n",
       "\n",
       "    .dataframe tbody tr th {\n",
       "        vertical-align: top;\n",
       "    }\n",
       "\n",
       "    .dataframe thead th {\n",
       "        text-align: right;\n",
       "    }\n",
       "</style>\n",
       "<table border=\"1\" class=\"dataframe\">\n",
       "  <thead>\n",
       "    <tr style=\"text-align: right;\">\n",
       "      <th></th>\n",
       "      <th>MovieID</th>\n",
       "      <th>Title</th>\n",
       "      <th>UserID</th>\n",
       "      <th>Rating</th>\n",
       "      <th>Timestamp</th>\n",
       "      <th>Gender</th>\n",
       "      <th>Age</th>\n",
       "      <th>Occupation</th>\n",
       "      <th>Zip-code</th>\n",
       "      <th>Action</th>\n",
       "      <th>...</th>\n",
       "      <th>Fantasy</th>\n",
       "      <th>Film-Noir</th>\n",
       "      <th>Horror</th>\n",
       "      <th>Musical</th>\n",
       "      <th>Mystery</th>\n",
       "      <th>Romance</th>\n",
       "      <th>Sci-Fi</th>\n",
       "      <th>Thriller</th>\n",
       "      <th>War</th>\n",
       "      <th>Western</th>\n",
       "    </tr>\n",
       "  </thead>\n",
       "  <tbody>\n",
       "    <tr>\n",
       "      <th>0</th>\n",
       "      <td>1</td>\n",
       "      <td>Toy Story (1995)</td>\n",
       "      <td>1</td>\n",
       "      <td>5</td>\n",
       "      <td>978824268</td>\n",
       "      <td>1</td>\n",
       "      <td>1</td>\n",
       "      <td>10</td>\n",
       "      <td>48067</td>\n",
       "      <td>0</td>\n",
       "      <td>...</td>\n",
       "      <td>0</td>\n",
       "      <td>0</td>\n",
       "      <td>0</td>\n",
       "      <td>0</td>\n",
       "      <td>0</td>\n",
       "      <td>0</td>\n",
       "      <td>0</td>\n",
       "      <td>0</td>\n",
       "      <td>0</td>\n",
       "      <td>0</td>\n",
       "    </tr>\n",
       "    <tr>\n",
       "      <th>1</th>\n",
       "      <td>1</td>\n",
       "      <td>Toy Story (1995)</td>\n",
       "      <td>6</td>\n",
       "      <td>4</td>\n",
       "      <td>978237008</td>\n",
       "      <td>1</td>\n",
       "      <td>50</td>\n",
       "      <td>9</td>\n",
       "      <td>55117</td>\n",
       "      <td>0</td>\n",
       "      <td>...</td>\n",
       "      <td>0</td>\n",
       "      <td>0</td>\n",
       "      <td>0</td>\n",
       "      <td>0</td>\n",
       "      <td>0</td>\n",
       "      <td>0</td>\n",
       "      <td>0</td>\n",
       "      <td>0</td>\n",
       "      <td>0</td>\n",
       "      <td>0</td>\n",
       "    </tr>\n",
       "    <tr>\n",
       "      <th>2</th>\n",
       "      <td>1</td>\n",
       "      <td>Toy Story (1995)</td>\n",
       "      <td>8</td>\n",
       "      <td>4</td>\n",
       "      <td>978233496</td>\n",
       "      <td>0</td>\n",
       "      <td>25</td>\n",
       "      <td>12</td>\n",
       "      <td>11413</td>\n",
       "      <td>0</td>\n",
       "      <td>...</td>\n",
       "      <td>0</td>\n",
       "      <td>0</td>\n",
       "      <td>0</td>\n",
       "      <td>0</td>\n",
       "      <td>0</td>\n",
       "      <td>0</td>\n",
       "      <td>0</td>\n",
       "      <td>0</td>\n",
       "      <td>0</td>\n",
       "      <td>0</td>\n",
       "    </tr>\n",
       "    <tr>\n",
       "      <th>3</th>\n",
       "      <td>1</td>\n",
       "      <td>Toy Story (1995)</td>\n",
       "      <td>9</td>\n",
       "      <td>5</td>\n",
       "      <td>978225952</td>\n",
       "      <td>0</td>\n",
       "      <td>25</td>\n",
       "      <td>17</td>\n",
       "      <td>61614</td>\n",
       "      <td>0</td>\n",
       "      <td>...</td>\n",
       "      <td>0</td>\n",
       "      <td>0</td>\n",
       "      <td>0</td>\n",
       "      <td>0</td>\n",
       "      <td>0</td>\n",
       "      <td>0</td>\n",
       "      <td>0</td>\n",
       "      <td>0</td>\n",
       "      <td>0</td>\n",
       "      <td>0</td>\n",
       "    </tr>\n",
       "    <tr>\n",
       "      <th>4</th>\n",
       "      <td>1</td>\n",
       "      <td>Toy Story (1995)</td>\n",
       "      <td>10</td>\n",
       "      <td>5</td>\n",
       "      <td>978226474</td>\n",
       "      <td>1</td>\n",
       "      <td>35</td>\n",
       "      <td>1</td>\n",
       "      <td>95370</td>\n",
       "      <td>0</td>\n",
       "      <td>...</td>\n",
       "      <td>0</td>\n",
       "      <td>0</td>\n",
       "      <td>0</td>\n",
       "      <td>0</td>\n",
       "      <td>0</td>\n",
       "      <td>0</td>\n",
       "      <td>0</td>\n",
       "      <td>0</td>\n",
       "      <td>0</td>\n",
       "      <td>0</td>\n",
       "    </tr>\n",
       "  </tbody>\n",
       "</table>\n",
       "<p>5 rows × 27 columns</p>\n",
       "</div>"
      ],
      "text/plain": [
       "   MovieID             Title  UserID  Rating  Timestamp  Gender  Age  \\\n",
       "0        1  Toy Story (1995)       1       5  978824268       1    1   \n",
       "1        1  Toy Story (1995)       6       4  978237008       1   50   \n",
       "2        1  Toy Story (1995)       8       4  978233496       0   25   \n",
       "3        1  Toy Story (1995)       9       5  978225952       0   25   \n",
       "4        1  Toy Story (1995)      10       5  978226474       1   35   \n",
       "\n",
       "   Occupation Zip-code  Action  ...  Fantasy  Film-Noir  Horror  Musical  \\\n",
       "0          10    48067       0  ...        0          0       0        0   \n",
       "1           9    55117       0  ...        0          0       0        0   \n",
       "2          12    11413       0  ...        0          0       0        0   \n",
       "3          17    61614       0  ...        0          0       0        0   \n",
       "4           1    95370       0  ...        0          0       0        0   \n",
       "\n",
       "   Mystery  Romance  Sci-Fi  Thriller  War  Western  \n",
       "0        0        0       0         0    0        0  \n",
       "1        0        0       0         0    0        0  \n",
       "2        0        0       0         0    0        0  \n",
       "3        0        0       0         0    0        0  \n",
       "4        0        0       0         0    0        0  \n",
       "\n",
       "[5 rows x 27 columns]"
      ]
     },
     "execution_count": 31,
     "metadata": {},
     "output_type": "execute_result"
    }
   ],
   "source": [
    "master_df.head()"
   ]
  },
  {
   "cell_type": "code",
   "execution_count": 32,
   "metadata": {},
   "outputs": [
    {
     "name": "stdout",
     "output_type": "stream",
     "text": [
      "['Toy Story (1995)' 'Jumanji (1995)' 'Grumpier Old Men (1995)' ...\n",
      " 'Tigerland (2000)' 'Two Family House (2000)' 'Contender, The (2000)']\n"
     ]
    }
   ],
   "source": [
    "print(pd.unique(master_df['Title']))"
   ]
  },
  {
   "cell_type": "code",
   "execution_count": 33,
   "metadata": {},
   "outputs": [],
   "source": [
    "from sklearn.preprocessing import LabelEncoder\n",
    "label_encode = LabelEncoder()\n",
    "master_df['Title'] = label_encode.fit_transform(master['Title'])"
   ]
  },
  {
   "cell_type": "code",
   "execution_count": 34,
   "metadata": {},
   "outputs": [],
   "source": [
    "# master_df['Title'] = pd.get_dummies(master['Title'])"
   ]
  },
  {
   "cell_type": "code",
   "execution_count": 35,
   "metadata": {},
   "outputs": [],
   "source": [
    "master_df['Zip-code'] = label_encode.fit_transform(master_df['Zip-code'])"
   ]
  },
  {
   "cell_type": "code",
   "execution_count": 36,
   "metadata": {},
   "outputs": [
    {
     "data": {
      "text/html": [
       "<div>\n",
       "<style scoped>\n",
       "    .dataframe tbody tr th:only-of-type {\n",
       "        vertical-align: middle;\n",
       "    }\n",
       "\n",
       "    .dataframe tbody tr th {\n",
       "        vertical-align: top;\n",
       "    }\n",
       "\n",
       "    .dataframe thead th {\n",
       "        text-align: right;\n",
       "    }\n",
       "</style>\n",
       "<table border=\"1\" class=\"dataframe\">\n",
       "  <thead>\n",
       "    <tr style=\"text-align: right;\">\n",
       "      <th></th>\n",
       "      <th>MovieID</th>\n",
       "      <th>Title</th>\n",
       "      <th>UserID</th>\n",
       "      <th>Rating</th>\n",
       "      <th>Timestamp</th>\n",
       "      <th>Gender</th>\n",
       "      <th>Age</th>\n",
       "      <th>Occupation</th>\n",
       "      <th>Zip-code</th>\n",
       "      <th>Action</th>\n",
       "      <th>...</th>\n",
       "      <th>Fantasy</th>\n",
       "      <th>Film-Noir</th>\n",
       "      <th>Horror</th>\n",
       "      <th>Musical</th>\n",
       "      <th>Mystery</th>\n",
       "      <th>Romance</th>\n",
       "      <th>Sci-Fi</th>\n",
       "      <th>Thriller</th>\n",
       "      <th>War</th>\n",
       "      <th>Western</th>\n",
       "    </tr>\n",
       "  </thead>\n",
       "  <tbody>\n",
       "    <tr>\n",
       "      <th>0</th>\n",
       "      <td>1</td>\n",
       "      <td>3411</td>\n",
       "      <td>1</td>\n",
       "      <td>5</td>\n",
       "      <td>978824268</td>\n",
       "      <td>1</td>\n",
       "      <td>1</td>\n",
       "      <td>10</td>\n",
       "      <td>1588</td>\n",
       "      <td>0</td>\n",
       "      <td>...</td>\n",
       "      <td>0</td>\n",
       "      <td>0</td>\n",
       "      <td>0</td>\n",
       "      <td>0</td>\n",
       "      <td>0</td>\n",
       "      <td>0</td>\n",
       "      <td>0</td>\n",
       "      <td>0</td>\n",
       "      <td>0</td>\n",
       "      <td>0</td>\n",
       "    </tr>\n",
       "    <tr>\n",
       "      <th>1</th>\n",
       "      <td>1</td>\n",
       "      <td>3411</td>\n",
       "      <td>6</td>\n",
       "      <td>4</td>\n",
       "      <td>978237008</td>\n",
       "      <td>1</td>\n",
       "      <td>50</td>\n",
       "      <td>9</td>\n",
       "      <td>1863</td>\n",
       "      <td>0</td>\n",
       "      <td>...</td>\n",
       "      <td>0</td>\n",
       "      <td>0</td>\n",
       "      <td>0</td>\n",
       "      <td>0</td>\n",
       "      <td>0</td>\n",
       "      <td>0</td>\n",
       "      <td>0</td>\n",
       "      <td>0</td>\n",
       "      <td>0</td>\n",
       "      <td>0</td>\n",
       "    </tr>\n",
       "    <tr>\n",
       "      <th>2</th>\n",
       "      <td>1</td>\n",
       "      <td>3411</td>\n",
       "      <td>8</td>\n",
       "      <td>4</td>\n",
       "      <td>978233496</td>\n",
       "      <td>0</td>\n",
       "      <td>25</td>\n",
       "      <td>12</td>\n",
       "      <td>488</td>\n",
       "      <td>0</td>\n",
       "      <td>...</td>\n",
       "      <td>0</td>\n",
       "      <td>0</td>\n",
       "      <td>0</td>\n",
       "      <td>0</td>\n",
       "      <td>0</td>\n",
       "      <td>0</td>\n",
       "      <td>0</td>\n",
       "      <td>0</td>\n",
       "      <td>0</td>\n",
       "      <td>0</td>\n",
       "    </tr>\n",
       "    <tr>\n",
       "      <th>3</th>\n",
       "      <td>1</td>\n",
       "      <td>3411</td>\n",
       "      <td>9</td>\n",
       "      <td>5</td>\n",
       "      <td>978225952</td>\n",
       "      <td>0</td>\n",
       "      <td>25</td>\n",
       "      <td>17</td>\n",
       "      <td>2106</td>\n",
       "      <td>0</td>\n",
       "      <td>...</td>\n",
       "      <td>0</td>\n",
       "      <td>0</td>\n",
       "      <td>0</td>\n",
       "      <td>0</td>\n",
       "      <td>0</td>\n",
       "      <td>0</td>\n",
       "      <td>0</td>\n",
       "      <td>0</td>\n",
       "      <td>0</td>\n",
       "      <td>0</td>\n",
       "    </tr>\n",
       "    <tr>\n",
       "      <th>4</th>\n",
       "      <td>1</td>\n",
       "      <td>3411</td>\n",
       "      <td>10</td>\n",
       "      <td>5</td>\n",
       "      <td>978226474</td>\n",
       "      <td>1</td>\n",
       "      <td>35</td>\n",
       "      <td>1</td>\n",
       "      <td>3188</td>\n",
       "      <td>0</td>\n",
       "      <td>...</td>\n",
       "      <td>0</td>\n",
       "      <td>0</td>\n",
       "      <td>0</td>\n",
       "      <td>0</td>\n",
       "      <td>0</td>\n",
       "      <td>0</td>\n",
       "      <td>0</td>\n",
       "      <td>0</td>\n",
       "      <td>0</td>\n",
       "      <td>0</td>\n",
       "    </tr>\n",
       "  </tbody>\n",
       "</table>\n",
       "<p>5 rows × 27 columns</p>\n",
       "</div>"
      ],
      "text/plain": [
       "   MovieID  Title  UserID  Rating  Timestamp  Gender  Age  Occupation  \\\n",
       "0        1   3411       1       5  978824268       1    1          10   \n",
       "1        1   3411       6       4  978237008       1   50           9   \n",
       "2        1   3411       8       4  978233496       0   25          12   \n",
       "3        1   3411       9       5  978225952       0   25          17   \n",
       "4        1   3411      10       5  978226474       1   35           1   \n",
       "\n",
       "   Zip-code  Action  ...  Fantasy  Film-Noir  Horror  Musical  Mystery  \\\n",
       "0      1588       0  ...        0          0       0        0        0   \n",
       "1      1863       0  ...        0          0       0        0        0   \n",
       "2       488       0  ...        0          0       0        0        0   \n",
       "3      2106       0  ...        0          0       0        0        0   \n",
       "4      3188       0  ...        0          0       0        0        0   \n",
       "\n",
       "   Romance  Sci-Fi  Thriller  War  Western  \n",
       "0        0       0         0    0        0  \n",
       "1        0       0         0    0        0  \n",
       "2        0       0         0    0        0  \n",
       "3        0       0         0    0        0  \n",
       "4        0       0         0    0        0  \n",
       "\n",
       "[5 rows x 27 columns]"
      ]
     },
     "execution_count": 36,
     "metadata": {},
     "output_type": "execute_result"
    }
   ],
   "source": [
    "master_df.head()"
   ]
  },
  {
   "cell_type": "code",
   "execution_count": 37,
   "metadata": {},
   "outputs": [
    {
     "name": "stdout",
     "output_type": "stream",
     "text": [
      "<class 'pandas.core.frame.DataFrame'>\n",
      "Int64Index: 1000209 entries, 0 to 1000208\n",
      "Data columns (total 27 columns):\n",
      " #   Column       Non-Null Count    Dtype\n",
      "---  ------       --------------    -----\n",
      " 0   MovieID      1000209 non-null  int64\n",
      " 1   Title        1000209 non-null  int32\n",
      " 2   UserID       1000209 non-null  int64\n",
      " 3   Rating       1000209 non-null  int64\n",
      " 4   Timestamp    1000209 non-null  int64\n",
      " 5   Gender       1000209 non-null  int64\n",
      " 6   Age          1000209 non-null  int64\n",
      " 7   Occupation   1000209 non-null  int64\n",
      " 8   Zip-code     1000209 non-null  int32\n",
      " 9   Action       1000209 non-null  uint8\n",
      " 10  Adventure    1000209 non-null  uint8\n",
      " 11  Animation    1000209 non-null  uint8\n",
      " 12  Children's   1000209 non-null  uint8\n",
      " 13  Comedy       1000209 non-null  uint8\n",
      " 14  Crime        1000209 non-null  uint8\n",
      " 15  Documentary  1000209 non-null  uint8\n",
      " 16  Drama        1000209 non-null  uint8\n",
      " 17  Fantasy      1000209 non-null  uint8\n",
      " 18  Film-Noir    1000209 non-null  uint8\n",
      " 19  Horror       1000209 non-null  uint8\n",
      " 20  Musical      1000209 non-null  uint8\n",
      " 21  Mystery      1000209 non-null  uint8\n",
      " 22  Romance      1000209 non-null  uint8\n",
      " 23  Sci-Fi       1000209 non-null  uint8\n",
      " 24  Thriller     1000209 non-null  uint8\n",
      " 25  War          1000209 non-null  uint8\n",
      " 26  Western      1000209 non-null  uint8\n",
      "dtypes: int32(2), int64(7), uint8(18)\n",
      "memory usage: 125.8 MB\n"
     ]
    }
   ],
   "source": [
    "master_df.info()"
   ]
  },
  {
   "cell_type": "code",
   "execution_count": 38,
   "metadata": {},
   "outputs": [
    {
     "data": {
      "text/plain": [
       "MovieID       0\n",
       "Title         0\n",
       "Genres        0\n",
       "UserID        0\n",
       "Rating        0\n",
       "Timestamp     0\n",
       "Gender        0\n",
       "Age           0\n",
       "Occupation    0\n",
       "Zip-code      0\n",
       "dtype: int64"
      ]
     },
     "execution_count": 38,
     "metadata": {},
     "output_type": "execute_result"
    }
   ],
   "source": [
    "# Checking missing values\n",
    "master.isnull().sum()"
   ]
  },
  {
   "cell_type": "code",
   "execution_count": 39,
   "metadata": {},
   "outputs": [],
   "source": [
    "from scipy.stats import chi2_contingency\n",
    "\n",
    "np.set_printoptions(suppress=True)"
   ]
  },
  {
   "cell_type": "code",
   "execution_count": 40,
   "metadata": {},
   "outputs": [],
   "source": [
    "cat = ['Title','Gender','Zip-code']\n",
    "num = ['MovieID','UserID','Rating','Timestamp','Age','Occupation']"
   ]
  },
  {
   "cell_type": "code",
   "execution_count": 41,
   "metadata": {},
   "outputs": [
    {
     "data": {
      "text/html": [
       "<div>\n",
       "<style scoped>\n",
       "    .dataframe tbody tr th:only-of-type {\n",
       "        vertical-align: middle;\n",
       "    }\n",
       "\n",
       "    .dataframe tbody tr th {\n",
       "        vertical-align: top;\n",
       "    }\n",
       "\n",
       "    .dataframe thead th {\n",
       "        text-align: right;\n",
       "    }\n",
       "</style>\n",
       "<table border=\"1\" class=\"dataframe\">\n",
       "  <thead>\n",
       "    <tr style=\"text-align: right;\">\n",
       "      <th></th>\n",
       "      <th>MovieID</th>\n",
       "      <th>UserID</th>\n",
       "      <th>Rating</th>\n",
       "      <th>Timestamp</th>\n",
       "      <th>Age</th>\n",
       "      <th>Occupation</th>\n",
       "    </tr>\n",
       "  </thead>\n",
       "  <tbody>\n",
       "    <tr>\n",
       "      <th>MovieID</th>\n",
       "      <td>1.000000</td>\n",
       "      <td>-0.017739</td>\n",
       "      <td>-0.064042</td>\n",
       "      <td>0.041632</td>\n",
       "      <td>0.027575</td>\n",
       "      <td>0.008585</td>\n",
       "    </tr>\n",
       "    <tr>\n",
       "      <th>UserID</th>\n",
       "      <td>-0.017739</td>\n",
       "      <td>1.000000</td>\n",
       "      <td>0.012303</td>\n",
       "      <td>-0.490383</td>\n",
       "      <td>0.034688</td>\n",
       "      <td>-0.026698</td>\n",
       "    </tr>\n",
       "    <tr>\n",
       "      <th>Rating</th>\n",
       "      <td>-0.064042</td>\n",
       "      <td>0.012303</td>\n",
       "      <td>1.000000</td>\n",
       "      <td>-0.026770</td>\n",
       "      <td>0.056869</td>\n",
       "      <td>0.006753</td>\n",
       "    </tr>\n",
       "    <tr>\n",
       "      <th>Timestamp</th>\n",
       "      <td>0.041632</td>\n",
       "      <td>-0.490383</td>\n",
       "      <td>-0.026770</td>\n",
       "      <td>1.000000</td>\n",
       "      <td>-0.064562</td>\n",
       "      <td>0.015646</td>\n",
       "    </tr>\n",
       "    <tr>\n",
       "      <th>Age</th>\n",
       "      <td>0.027575</td>\n",
       "      <td>0.034688</td>\n",
       "      <td>0.056869</td>\n",
       "      <td>-0.064562</td>\n",
       "      <td>1.000000</td>\n",
       "      <td>0.078371</td>\n",
       "    </tr>\n",
       "    <tr>\n",
       "      <th>Occupation</th>\n",
       "      <td>0.008585</td>\n",
       "      <td>-0.026698</td>\n",
       "      <td>0.006753</td>\n",
       "      <td>0.015646</td>\n",
       "      <td>0.078371</td>\n",
       "      <td>1.000000</td>\n",
       "    </tr>\n",
       "  </tbody>\n",
       "</table>\n",
       "</div>"
      ],
      "text/plain": [
       "             MovieID    UserID    Rating  Timestamp       Age  Occupation\n",
       "MovieID     1.000000 -0.017739 -0.064042   0.041632  0.027575    0.008585\n",
       "UserID     -0.017739  1.000000  0.012303  -0.490383  0.034688   -0.026698\n",
       "Rating     -0.064042  0.012303  1.000000  -0.026770  0.056869    0.006753\n",
       "Timestamp   0.041632 -0.490383 -0.026770   1.000000 -0.064562    0.015646\n",
       "Age         0.027575  0.034688  0.056869  -0.064562  1.000000    0.078371\n",
       "Occupation  0.008585 -0.026698  0.006753   0.015646  0.078371    1.000000"
      ]
     },
     "execution_count": 41,
     "metadata": {},
     "output_type": "execute_result"
    }
   ],
   "source": [
    "corr_df = master[num]\n",
    "corr    = corr_df.corr(method='pearson')\n",
    "corr"
   ]
  },
  {
   "cell_type": "code",
   "execution_count": 42,
   "metadata": {},
   "outputs": [
    {
     "data": {
      "image/png": "[encoded data removed]",
      "text/plain": [
       "<Figure size 432x288 with 2 Axes>"
      ]
     },
     "metadata": {},
     "output_type": "display_data"
    }
   ],
   "source": [
    "sns.heatmap(corr,annot=True);"
   ]
  },
  {
   "cell_type": "markdown",
   "metadata": {},
   "source": [
    "* There's no strong relation between the variables.The strongest negative correlation is between UserID and Timestamp(-0.49)"
   ]
  },
  {
   "cell_type": "code",
   "execution_count": 43,
   "metadata": {},
   "outputs": [
    {
     "name": "stdout",
     "output_type": "stream",
     "text": [
      "Column : Title, the p-value:    0.0000000000\n",
      "Column : Gender, the p-value:    0.0000000000\n",
      "Column : Zip-code, the p-value:    0.0000000000\n"
     ]
    }
   ],
   "source": [
    "# Chi2 test to check the relation between Categorical variable\n",
    "for col in cat:\n",
    "    c_sq = chi2_contingency(pd.crosstab(master['Rating'], master[col]))\n",
    "    print(\"Column : {}, the p-value: {:15.10F}\".format(col, c_sq[1]))"
   ]
  },
  {
   "cell_type": "markdown",
   "metadata": {},
   "source": [
    "- p-values for columns Title, Gender and Zip-code are very low. So we can conclude that these features are independant and has no relationship with target variable"
   ]
  },
  {
   "cell_type": "code",
   "execution_count": 49,
   "metadata": {},
   "outputs": [],
   "source": [
    "# apply anova \n",
    "x= master_df.drop('Rating',axis=1).values\n",
    "y= master_df['Rating'].values\n",
    "model = ols('y ~ x', data=master_df).fit()"
   ]
  },
  {
   "cell_type": "code",
   "execution_count": 50,
   "metadata": {},
   "outputs": [
    {
     "data": {
      "text/html": [
       "<table class=\"simpletable\">\n",
       "<caption>OLS Regression Results</caption>\n",
       "<tr>\n",
       "  <th>Dep. Variable:</th>            <td>y</td>        <th>  R-squared:         </th>  <td>   0.042</td>  \n",
       "</tr>\n",
       "<tr>\n",
       "  <th>Model:</th>                   <td>OLS</td>       <th>  Adj. R-squared:    </th>  <td>   0.042</td>  \n",
       "</tr>\n",
       "<tr>\n",
       "  <th>Method:</th>             <td>Least Squares</td>  <th>  F-statistic:       </th>  <td>   1668.</td>  \n",
       "</tr>\n",
       "<tr>\n",
       "  <th>Date:</th>             <td>Fri, 30 Oct 2020</td> <th>  Prob (F-statistic):</th>   <td>  0.00</td>   \n",
       "</tr>\n",
       "<tr>\n",
       "  <th>Time:</th>                 <td>17:39:48</td>     <th>  Log-Likelihood:    </th> <td>-1.5088e+06</td>\n",
       "</tr>\n",
       "<tr>\n",
       "  <th>No. Observations:</th>      <td>1000209</td>     <th>  AIC:               </th>  <td>3.018e+06</td> \n",
       "</tr>\n",
       "<tr>\n",
       "  <th>Df Residuals:</th>          <td>1000182</td>     <th>  BIC:               </th>  <td>3.018e+06</td> \n",
       "</tr>\n",
       "<tr>\n",
       "  <th>Df Model:</th>              <td>    26</td>      <th>                     </th>      <td> </td>     \n",
       "</tr>\n",
       "<tr>\n",
       "  <th>Covariance Type:</th>      <td>nonrobust</td>    <th>                     </th>      <td> </td>     \n",
       "</tr>\n",
       "</table>\n",
       "<table class=\"simpletable\">\n",
       "<tr>\n",
       "      <td></td>         <th>coef</th>     <th>std err</th>      <th>t</th>      <th>P>|t|</th>  <th>[0.025</th>    <th>0.975]</th>  \n",
       "</tr>\n",
       "<tr>\n",
       "  <th>Intercept</th> <td>    5.7704</td> <td>    0.102</td> <td>   56.444</td> <td> 0.000</td> <td>    5.570</td> <td>    5.971</td>\n",
       "</tr>\n",
       "<tr>\n",
       "  <th>x[0]</th>      <td>-5.574e-05</td> <td> 1.03e-06</td> <td>  -54.174</td> <td> 0.000</td> <td>-5.78e-05</td> <td>-5.37e-05</td>\n",
       "</tr>\n",
       "<tr>\n",
       "  <th>x[1]</th>      <td> 1.381e-05</td> <td> 1.02e-06</td> <td>   13.589</td> <td> 0.000</td> <td> 1.18e-05</td> <td> 1.58e-05</td>\n",
       "</tr>\n",
       "<tr>\n",
       "  <th>x[2]</th>      <td> -2.83e-06</td> <td> 7.28e-07</td> <td>   -3.886</td> <td> 0.000</td> <td>-4.26e-06</td> <td> -1.4e-06</td>\n",
       "</tr>\n",
       "<tr>\n",
       "  <th>x[3]</th>      <td> -2.36e-09</td> <td> 1.04e-10</td> <td>  -22.762</td> <td> 0.000</td> <td>-2.56e-09</td> <td>-2.16e-09</td>\n",
       "</tr>\n",
       "<tr>\n",
       "  <th>x[4]</th>      <td>    0.0328</td> <td>    0.003</td> <td>   12.682</td> <td> 0.000</td> <td>    0.028</td> <td>    0.038</td>\n",
       "</tr>\n",
       "<tr>\n",
       "  <th>x[5]</th>      <td>    0.0040</td> <td> 9.43e-05</td> <td>   42.488</td> <td> 0.000</td> <td>    0.004</td> <td>    0.004</td>\n",
       "</tr>\n",
       "<tr>\n",
       "  <th>x[6]</th>      <td>    0.0011</td> <td>    0.000</td> <td>    6.777</td> <td> 0.000</td> <td>    0.001</td> <td>    0.001</td>\n",
       "</tr>\n",
       "<tr>\n",
       "  <th>x[7]</th>      <td>-3.839e-06</td> <td> 1.09e-06</td> <td>   -3.524</td> <td> 0.000</td> <td>-5.97e-06</td> <td> -1.7e-06</td>\n",
       "</tr>\n",
       "<tr>\n",
       "  <th>x[8]</th>      <td>   -0.1025</td> <td>    0.003</td> <td>  -32.726</td> <td> 0.000</td> <td>   -0.109</td> <td>   -0.096</td>\n",
       "</tr>\n",
       "<tr>\n",
       "  <th>x[9]</th>      <td>   -0.0073</td> <td>    0.004</td> <td>   -1.950</td> <td> 0.051</td> <td>   -0.015</td> <td> 3.87e-05</td>\n",
       "</tr>\n",
       "<tr>\n",
       "  <th>x[10]</th>     <td>    0.3765</td> <td>    0.007</td> <td>   54.470</td> <td> 0.000</td> <td>    0.363</td> <td>    0.390</td>\n",
       "</tr>\n",
       "<tr>\n",
       "  <th>x[11]</th>     <td>   -0.3425</td> <td>    0.006</td> <td>  -60.244</td> <td> 0.000</td> <td>   -0.354</td> <td>   -0.331</td>\n",
       "</tr>\n",
       "<tr>\n",
       "  <th>x[12]</th>     <td>   -0.0096</td> <td>    0.003</td> <td>   -3.341</td> <td> 0.001</td> <td>   -0.015</td> <td>   -0.004</td>\n",
       "</tr>\n",
       "<tr>\n",
       "  <th>x[13]</th>     <td>    0.0780</td> <td>    0.004</td> <td>   18.432</td> <td> 0.000</td> <td>    0.070</td> <td>    0.086</td>\n",
       "</tr>\n",
       "<tr>\n",
       "  <th>x[14]</th>     <td>    0.3953</td> <td>    0.013</td> <td>   31.288</td> <td> 0.000</td> <td>    0.371</td> <td>    0.420</td>\n",
       "</tr>\n",
       "<tr>\n",
       "  <th>x[15]</th>     <td>    0.2242</td> <td>    0.003</td> <td>   76.572</td> <td> 0.000</td> <td>    0.218</td> <td>    0.230</td>\n",
       "</tr>\n",
       "<tr>\n",
       "  <th>x[16]</th>     <td>    0.0668</td> <td>    0.006</td> <td>   10.454</td> <td> 0.000</td> <td>    0.054</td> <td>    0.079</td>\n",
       "</tr>\n",
       "<tr>\n",
       "  <th>x[17]</th>     <td>    0.4263</td> <td>    0.009</td> <td>   49.174</td> <td> 0.000</td> <td>    0.409</td> <td>    0.443</td>\n",
       "</tr>\n",
       "<tr>\n",
       "  <th>x[18]</th>     <td>   -0.2834</td> <td>    0.004</td> <td>  -63.604</td> <td> 0.000</td> <td>   -0.292</td> <td>   -0.275</td>\n",
       "</tr>\n",
       "<tr>\n",
       "  <th>x[19]</th>     <td>    0.1346</td> <td>    0.006</td> <td>   22.481</td> <td> 0.000</td> <td>    0.123</td> <td>    0.146</td>\n",
       "</tr>\n",
       "<tr>\n",
       "  <th>x[20]</th>     <td>    0.0058</td> <td>    0.006</td> <td>    0.977</td> <td> 0.329</td> <td>   -0.006</td> <td>    0.017</td>\n",
       "</tr>\n",
       "<tr>\n",
       "  <th>x[21]</th>     <td>   -0.0375</td> <td>    0.003</td> <td>  -11.562</td> <td> 0.000</td> <td>   -0.044</td> <td>   -0.031</td>\n",
       "</tr>\n",
       "<tr>\n",
       "  <th>x[22]</th>     <td>   -0.0300</td> <td>    0.003</td> <td>   -8.882</td> <td> 0.000</td> <td>   -0.037</td> <td>   -0.023</td>\n",
       "</tr>\n",
       "<tr>\n",
       "  <th>x[23]</th>     <td>    0.0455</td> <td>    0.003</td> <td>   13.980</td> <td> 0.000</td> <td>    0.039</td> <td>    0.052</td>\n",
       "</tr>\n",
       "<tr>\n",
       "  <th>x[24]</th>     <td>    0.2745</td> <td>    0.005</td> <td>   60.358</td> <td> 0.000</td> <td>    0.266</td> <td>    0.283</td>\n",
       "</tr>\n",
       "<tr>\n",
       "  <th>x[25]</th>     <td>    0.1014</td> <td>    0.008</td> <td>   12.993</td> <td> 0.000</td> <td>    0.086</td> <td>    0.117</td>\n",
       "</tr>\n",
       "</table>\n",
       "<table class=\"simpletable\">\n",
       "<tr>\n",
       "  <th>Omnibus:</th>       <td>46419.605</td> <th>  Durbin-Watson:     </th> <td>   1.585</td> \n",
       "</tr>\n",
       "<tr>\n",
       "  <th>Prob(Omnibus):</th>  <td> 0.000</td>   <th>  Jarque-Bera (JB):  </th> <td>49745.724</td>\n",
       "</tr>\n",
       "<tr>\n",
       "  <th>Skew:</th>           <td>-0.523</td>   <th>  Prob(JB):          </th> <td>    0.00</td> \n",
       "</tr>\n",
       "<tr>\n",
       "  <th>Kurtosis:</th>       <td> 2.682</td>   <th>  Cond. No.          </th> <td>9.09e+10</td> \n",
       "</tr>\n",
       "</table><br/><br/>Warnings:<br/>[1] Standard Errors assume that the covariance matrix of the errors is correctly specified.<br/>[2] The condition number is large, 9.09e+10. This might indicate that there are<br/>strong multicollinearity or other numerical problems."
      ],
      "text/plain": [
       "<class 'statsmodels.iolib.summary.Summary'>\n",
       "\"\"\"\n",
       "                            OLS Regression Results                            \n",
       "==============================================================================\n",
       "Dep. Variable:                      y   R-squared:                       0.042\n",
       "Model:                            OLS   Adj. R-squared:                  0.042\n",
       "Method:                 Least Squares   F-statistic:                     1668.\n",
       "Date:                Fri, 30 Oct 2020   Prob (F-statistic):               0.00\n",
       "Time:                        17:39:48   Log-Likelihood:            -1.5088e+06\n",
       "No. Observations:             1000209   AIC:                         3.018e+06\n",
       "Df Residuals:                 1000182   BIC:                         3.018e+06\n",
       "Df Model:                          26                                         \n",
       "Covariance Type:            nonrobust                                         \n",
       "==============================================================================\n",
       "                 coef    std err          t      P>|t|      [0.025      0.975]\n",
       "------------------------------------------------------------------------------\n",
       "Intercept      5.7704      0.102     56.444      0.000       5.570       5.971\n",
       "x[0]       -5.574e-05   1.03e-06    -54.174      0.000   -5.78e-05   -5.37e-05\n",
       "x[1]        1.381e-05   1.02e-06     13.589      0.000    1.18e-05    1.58e-05\n",
       "x[2]        -2.83e-06   7.28e-07     -3.886      0.000   -4.26e-06    -1.4e-06\n",
       "x[3]        -2.36e-09   1.04e-10    -22.762      0.000   -2.56e-09   -2.16e-09\n",
       "x[4]           0.0328      0.003     12.682      0.000       0.028       0.038\n",
       "x[5]           0.0040   9.43e-05     42.488      0.000       0.004       0.004\n",
       "x[6]           0.0011      0.000      6.777      0.000       0.001       0.001\n",
       "x[7]       -3.839e-06   1.09e-06     -3.524      0.000   -5.97e-06    -1.7e-06\n",
       "x[8]          -0.1025      0.003    -32.726      0.000      -0.109      -0.096\n",
       "x[9]          -0.0073      0.004     -1.950      0.051      -0.015    3.87e-05\n",
       "x[10]          0.3765      0.007     54.470      0.000       0.363       0.390\n",
       "x[11]         -0.3425      0.006    -60.244      0.000      -0.354      -0.331\n",
       "x[12]         -0.0096      0.003     -3.341      0.001      -0.015      -0.004\n",
       "x[13]          0.0780      0.004     18.432      0.000       0.070       0.086\n",
       "x[14]          0.3953      0.013     31.288      0.000       0.371       0.420\n",
       "x[15]          0.2242      0.003     76.572      0.000       0.218       0.230\n",
       "x[16]          0.0668      0.006     10.454      0.000       0.054       0.079\n",
       "x[17]          0.4263      0.009     49.174      0.000       0.409       0.443\n",
       "x[18]         -0.2834      0.004    -63.604      0.000      -0.292      -0.275\n",
       "x[19]          0.1346      0.006     22.481      0.000       0.123       0.146\n",
       "x[20]          0.0058      0.006      0.977      0.329      -0.006       0.017\n",
       "x[21]         -0.0375      0.003    -11.562      0.000      -0.044      -0.031\n",
       "x[22]         -0.0300      0.003     -8.882      0.000      -0.037      -0.023\n",
       "x[23]          0.0455      0.003     13.980      0.000       0.039       0.052\n",
       "x[24]          0.2745      0.005     60.358      0.000       0.266       0.283\n",
       "x[25]          0.1014      0.008     12.993      0.000       0.086       0.117\n",
       "==============================================================================\n",
       "Omnibus:                    46419.605   Durbin-Watson:                   1.585\n",
       "Prob(Omnibus):                  0.000   Jarque-Bera (JB):            49745.724\n",
       "Skew:                          -0.523   Prob(JB):                         0.00\n",
       "Kurtosis:                       2.682   Cond. No.                     9.09e+10\n",
       "==============================================================================\n",
       "\n",
       "Warnings:\n",
       "[1] Standard Errors assume that the covariance matrix of the errors is correctly specified.\n",
       "[2] The condition number is large, 9.09e+10. This might indicate that there are\n",
       "strong multicollinearity or other numerical problems.\n",
       "\"\"\""
      ]
     },
     "execution_count": 50,
     "metadata": {},
     "output_type": "execute_result"
    }
   ],
   "source": [
    "model.summary()"
   ]
  },
  {
   "cell_type": "code",
   "execution_count": 51,
   "metadata": {},
   "outputs": [
    {
     "data": {
      "text/html": [
       "<div>\n",
       "<style scoped>\n",
       "    .dataframe tbody tr th:only-of-type {\n",
       "        vertical-align: middle;\n",
       "    }\n",
       "\n",
       "    .dataframe tbody tr th {\n",
       "        vertical-align: top;\n",
       "    }\n",
       "\n",
       "    .dataframe thead th {\n",
       "        text-align: right;\n",
       "    }\n",
       "</style>\n",
       "<table border=\"1\" class=\"dataframe\">\n",
       "  <thead>\n",
       "    <tr style=\"text-align: right;\">\n",
       "      <th></th>\n",
       "      <th>df</th>\n",
       "      <th>sum_sq</th>\n",
       "      <th>mean_sq</th>\n",
       "      <th>F</th>\n",
       "      <th>PR(&gt;F)</th>\n",
       "    </tr>\n",
       "  </thead>\n",
       "  <tbody>\n",
       "    <tr>\n",
       "      <th>x</th>\n",
       "      <td>26.0</td>\n",
       "      <td>5.187111e+04</td>\n",
       "      <td>1995.042718</td>\n",
       "      <td>1667.974166</td>\n",
       "      <td>0.0</td>\n",
       "    </tr>\n",
       "    <tr>\n",
       "      <th>Residual</th>\n",
       "      <td>1000182.0</td>\n",
       "      <td>1.196305e+06</td>\n",
       "      <td>1.196087</td>\n",
       "      <td>NaN</td>\n",
       "      <td>NaN</td>\n",
       "    </tr>\n",
       "  </tbody>\n",
       "</table>\n",
       "</div>"
      ],
      "text/plain": [
       "                 df        sum_sq      mean_sq            F  PR(>F)\n",
       "x              26.0  5.187111e+04  1995.042718  1667.974166     0.0\n",
       "Residual  1000182.0  1.196305e+06     1.196087          NaN     NaN"
      ]
     },
     "execution_count": 51,
     "metadata": {},
     "output_type": "execute_result"
    }
   ],
   "source": [
    "anova_table = sm.stats.anova_lm(model)\n",
    "anova_table"
   ]
  },
  {
   "cell_type": "code",
   "execution_count": 52,
   "metadata": {},
   "outputs": [
    {
     "name": "stdout",
     "output_type": "stream",
     "text": [
      "Multiple Comparison of Means - Tukey HSD, FWER=0.05\n",
      "===================================================\n",
      "group1 group2 meandiff p-adj  lower   upper  reject\n",
      "---------------------------------------------------\n",
      "     1     18  -0.0419 0.001 -0.0633 -0.0206   True\n",
      "     1     25  -0.0043   0.9 -0.0249  0.0163  False\n",
      "     1     35   0.0686 0.001  0.0474  0.0899   True\n",
      "     1     45   0.0885 0.001  0.0656  0.1115   True\n",
      "     1     50    0.165 0.001  0.1416  0.1884   True\n",
      "     1     56   0.2171 0.001  0.1911  0.2431   True\n",
      "    18     25   0.0377 0.001  0.0284  0.0469   True\n",
      "    18     35   0.1106 0.001  0.0999  0.1212   True\n",
      "    18     45   0.1305 0.001  0.1168  0.1442   True\n",
      "    18     50   0.2069 0.001  0.1925  0.2214   True\n",
      "    18     56   0.2591 0.001  0.2407  0.2774   True\n",
      "    25     35   0.0729 0.001  0.0639   0.082   True\n",
      "    25     45   0.0928 0.001  0.0803  0.1053   True\n",
      "    25     50   0.1693 0.001   0.156  0.1826   True\n",
      "    25     56   0.2214 0.001  0.2039  0.2389   True\n",
      "    35     45   0.0199 0.001  0.0064  0.0334   True\n",
      "    35     50   0.0964 0.001  0.0821  0.1106   True\n",
      "    35     56   0.1485 0.001  0.1302  0.1667   True\n",
      "    45     50   0.0765 0.001  0.0598  0.0931   True\n",
      "    45     56   0.1286 0.001  0.1084  0.1488   True\n",
      "    50     56   0.0521 0.001  0.0314  0.0728   True\n",
      "---------------------------------------------------\n"
     ]
    }
   ],
   "source": [
    "from statsmodels.stats.multicomp import pairwise_tukeyhsd\n",
    "\n",
    "m_comp = pairwise_tukeyhsd(master_df.Rating, master_df.Age)\n",
    "print(m_comp)"
   ]
  },
  {
   "cell_type": "markdown",
   "metadata": {},
   "source": [
    "### Develop an appropriate model to predict the movie ratings\n",
    "- __Decision Tree__"
   ]
  },
  {
   "cell_type": "code",
   "execution_count": 53,
   "metadata": {},
   "outputs": [],
   "source": [
    "from sklearn.model_selection import train_test_split"
   ]
  },
  {
   "cell_type": "code",
   "execution_count": 54,
   "metadata": {},
   "outputs": [],
   "source": [
    "x = master_df.drop('Rating',axis=1).values\n",
    "y = master_df.Rating.values"
   ]
  },
  {
   "cell_type": "code",
   "execution_count": 55,
   "metadata": {},
   "outputs": [],
   "source": [
    "train, test = train_test_split(master_df, test_size=0.25, random_state=1)"
   ]
  },
  {
   "cell_type": "code",
   "execution_count": 56,
   "metadata": {},
   "outputs": [],
   "source": [
    "x_tr = train.drop('Rating',axis=1)\n",
    "y_tr = train.Rating\n",
    "x_te = test.drop('Rating',axis=1)\n",
    "y_te = test.Rating"
   ]
  },
  {
   "cell_type": "code",
   "execution_count": 57,
   "metadata": {},
   "outputs": [],
   "source": [
    "from sklearn.tree import DecisionTreeClassifier"
   ]
  },
  {
   "cell_type": "markdown",
   "metadata": {},
   "source": [
    "__Decision Tree 1__"
   ]
  },
  {
   "cell_type": "code",
   "execution_count": 58,
   "metadata": {},
   "outputs": [
    {
     "data": {
      "text/plain": [
       "DecisionTreeClassifier()"
      ]
     },
     "execution_count": 58,
     "metadata": {},
     "output_type": "execute_result"
    }
   ],
   "source": [
    "dt = DecisionTreeClassifier()\n",
    "dt.fit(x_tr, y_tr)"
   ]
  },
  {
   "cell_type": "code",
   "execution_count": 59,
   "metadata": {},
   "outputs": [
    {
     "data": {
      "text/plain": [
       "[0.05926364377183602,\n",
       " 0.04760149211731625,\n",
       " 0.18563639880607835,\n",
       " 0.2105477879916744,\n",
       " 0.024302777050386477,\n",
       " 0.07162085089333155,\n",
       " 0.12436196376362627,\n",
       " 0.23972117226159054,\n",
       " 0.0026743982415859593,\n",
       " 0.0021886553395027487,\n",
       " 0.0007744598122599825,\n",
       " 0.0017383867186981537,\n",
       " 0.0048542579473854755,\n",
       " 0.0023720414733695073,\n",
       " 0.0005390679226332333,\n",
       " 0.0037849808480679295,\n",
       " 0.0008841273032192561,\n",
       " 0.0010226414828290158,\n",
       " 0.0012422041029453575,\n",
       " 0.0010776015379313493,\n",
       " 0.0013949391721466559,\n",
       " 0.0033666796037869593,\n",
       " 0.0022373364292508054,\n",
       " 0.0044330469858602116,\n",
       " 0.001556825036455598,\n",
       " 0.0008022633862319655]"
      ]
     },
     "execution_count": 59,
     "metadata": {},
     "output_type": "execute_result"
    }
   ],
   "source": [
    "imp = list(dt.feature_importances_)\n",
    "imp"
   ]
  },
  {
   "cell_type": "code",
   "execution_count": 60,
   "metadata": {},
   "outputs": [
    {
     "data": {
      "text/plain": [
       "[('MovieID', 0.06),\n",
       " ('Title', 0.05),\n",
       " ('UserID', 0.19),\n",
       " ('Timestamp', 0.21),\n",
       " ('Gender', 0.02),\n",
       " ('Age', 0.07),\n",
       " ('Occupation', 0.12),\n",
       " ('Zip-code', 0.24),\n",
       " ('Action', 0.0),\n",
       " ('Adventure', 0.0),\n",
       " ('Animation', 0.0),\n",
       " (\"Children's\", 0.0),\n",
       " ('Comedy', 0.0),\n",
       " ('Crime', 0.0),\n",
       " ('Documentary', 0.0),\n",
       " ('Drama', 0.0),\n",
       " ('Fantasy', 0.0),\n",
       " ('Film-Noir', 0.0),\n",
       " ('Horror', 0.0),\n",
       " ('Musical', 0.0),\n",
       " ('Mystery', 0.0),\n",
       " ('Romance', 0.0),\n",
       " ('Sci-Fi', 0.0),\n",
       " ('Thriller', 0.0),\n",
       " ('War', 0.0),\n",
       " ('Western', 0.0)]"
      ]
     },
     "execution_count": 60,
     "metadata": {},
     "output_type": "execute_result"
    }
   ],
   "source": [
    "feature_imp = [(feature, round(imp,2)) for feature, \n",
    "               imp in zip(x_tr.columns, imp)]\n",
    "feature_imp"
   ]
  },
  {
   "cell_type": "code",
   "execution_count": 61,
   "metadata": {},
   "outputs": [
    {
     "data": {
      "text/plain": [
       "[('Zip-code', 0.24),\n",
       " ('Timestamp', 0.21),\n",
       " ('UserID', 0.19),\n",
       " ('Occupation', 0.12),\n",
       " ('Age', 0.07),\n",
       " ('MovieID', 0.06),\n",
       " ('Title', 0.05),\n",
       " ('Gender', 0.02),\n",
       " ('Action', 0.0),\n",
       " ('Adventure', 0.0),\n",
       " ('Animation', 0.0),\n",
       " (\"Children's\", 0.0),\n",
       " ('Comedy', 0.0),\n",
       " ('Crime', 0.0),\n",
       " ('Documentary', 0.0),\n",
       " ('Drama', 0.0),\n",
       " ('Fantasy', 0.0),\n",
       " ('Film-Noir', 0.0),\n",
       " ('Horror', 0.0),\n",
       " ('Musical', 0.0),\n",
       " ('Mystery', 0.0),\n",
       " ('Romance', 0.0),\n",
       " ('Sci-Fi', 0.0),\n",
       " ('Thriller', 0.0),\n",
       " ('War', 0.0),\n",
       " ('Western', 0.0)]"
      ]
     },
     "execution_count": 61,
     "metadata": {},
     "output_type": "execute_result"
    }
   ],
   "source": [
    "feature_imp = sorted(feature_imp, key = lambda x: x[1], reverse = True)\n",
    "feature_imp"
   ]
  },
  {
   "cell_type": "code",
   "execution_count": 62,
   "metadata": {},
   "outputs": [],
   "source": [
    "feature_imp = pd.DataFrame(feature_imp, columns=['feature','importance'])"
   ]
  },
  {
   "cell_type": "code",
   "execution_count": 63,
   "metadata": {},
   "outputs": [
    {
     "data": {
      "image/png": "[encoded data removed]",
      "text/plain": [
       "<Figure size 576x360 with 1 Axes>"
      ]
     },
     "metadata": {},
     "output_type": "display_data"
    }
   ],
   "source": [
    "ax = feature_imp.plot(kind='bar',\n",
    "                     x = 'feature',\n",
    "                     y = 'importance',\n",
    "                     figsize = (8, 5),\n",
    "                     title = 'feature Important for Decision Tree',\n",
    "                     grid = True,\n",
    "                     legend = True,\n",
    "                     fontsize=12,\n",
    "                     color='orange')\n",
    "ax.set_xlabel('Features')\n",
    "ax.set_ylabel('Importance');"
   ]
  },
  {
   "cell_type": "code",
   "execution_count": 64,
   "metadata": {},
   "outputs": [],
   "source": [
    "y_pred = dt.predict(x_te)"
   ]
  },
  {
   "cell_type": "code",
   "execution_count": 65,
   "metadata": {},
   "outputs": [
    {
     "data": {
      "text/plain": [
       "array([[ 2784,  2801,  3893,  3170,  1427],\n",
       "       [ 2788,  4946,  8249,  7455,  3409],\n",
       "       [ 4027,  8583, 19861, 21819, 11206],\n",
       "       [ 3300,  7891, 21952, 33202, 20659],\n",
       "       [ 1532,  3584, 11033, 20361, 20121]], dtype=int64)"
      ]
     },
     "execution_count": 65,
     "metadata": {},
     "output_type": "execute_result"
    }
   ],
   "source": [
    "from sklearn.metrics import confusion_matrix\n",
    "confusion_matrix(y_te, y_pred)"
   ]
  },
  {
   "cell_type": "code",
   "execution_count": 66,
   "metadata": {},
   "outputs": [
    {
     "data": {
      "image/png": "[encoded data removed]",
      "text/plain": [
       "<Figure size 432x288 with 1 Axes>"
      ]
     },
     "metadata": {},
     "output_type": "display_data"
    }
   ],
   "source": [
    "sns.heatmap(confusion_matrix(y_te, y_pred), annot=True, fmt='d',cbar=False)\n",
    "plt.xlabel('predicted_values')\n",
    "plt.ylabel('Actual Values')\n",
    "plt.title('Actual vs Predicted');"
   ]
  },
  {
   "cell_type": "code",
   "execution_count": 67,
   "metadata": {},
   "outputs": [
    {
     "name": "stdout",
     "output_type": "stream",
     "text": [
      "model accuracy:  32.35873994713121\n"
     ]
    }
   ],
   "source": [
    "print('model accuracy: ', accuracy_score(y_te, y_pred)*100)"
   ]
  },
  {
   "cell_type": "markdown",
   "metadata": {},
   "source": [
    "- It gives model accuracy 32.35%"
   ]
  },
  {
   "cell_type": "code",
   "execution_count": 68,
   "metadata": {},
   "outputs": [],
   "source": [
    "pred_prob = dt.predict_proba(x_te)[:, 1]"
   ]
  },
  {
   "cell_type": "code",
   "execution_count": 69,
   "metadata": {},
   "outputs": [],
   "source": [
    "from sklearn import metrics\n",
    "fpr2, tpr2, thresholds = metrics.roc_curve(y_te, pred_prob, pos_label=1)"
   ]
  },
  {
   "cell_type": "code",
   "execution_count": 70,
   "metadata": {},
   "outputs": [
    {
     "data": {
      "text/plain": [
       "array([2., 1., 0.])"
      ]
     },
     "execution_count": 70,
     "metadata": {},
     "output_type": "execute_result"
    }
   ],
   "source": [
    "thresholds"
   ]
  },
  {
   "cell_type": "code",
   "execution_count": 71,
   "metadata": {},
   "outputs": [
    {
     "data": {
      "text/plain": [
       "0.5465231492588638"
      ]
     },
     "execution_count": 71,
     "metadata": {},
     "output_type": "execute_result"
    }
   ],
   "source": [
    "auc_dt = metrics.auc(fpr2, tpr2)\n",
    "auc_dt"
   ]
  },
  {
   "cell_type": "code",
   "execution_count": 72,
   "metadata": {},
   "outputs": [
    {
     "name": "stdout",
     "output_type": "stream",
     "text": [
      "              precision    recall  f1-score   support\n",
      "\n",
      "           1       0.19      0.20      0.20     14075\n",
      "           2       0.18      0.18      0.18     26847\n",
      "           3       0.31      0.30      0.30     65496\n",
      "           4       0.39      0.38      0.38     87004\n",
      "           5       0.35      0.36      0.35     56631\n",
      "\n",
      "    accuracy                           0.32    250053\n",
      "   macro avg       0.28      0.28      0.28    250053\n",
      "weighted avg       0.32      0.32      0.32    250053\n",
      "\n"
     ]
    }
   ],
   "source": [
    "print(classification_report(y_te,y_pred))"
   ]
  },
  {
   "cell_type": "markdown",
   "metadata": {},
   "source": [
    "__Decision Tree with Prunning 2__"
   ]
  },
  {
   "cell_type": "code",
   "execution_count": 73,
   "metadata": {},
   "outputs": [],
   "source": [
    "# Prunning\n",
    "dt1 = DecisionTreeClassifier(min_samples_leaf= 30,\n",
    "                            min_samples_split =70 )"
   ]
  },
  {
   "cell_type": "code",
   "execution_count": 74,
   "metadata": {},
   "outputs": [
    {
     "data": {
      "text/plain": [
       "DecisionTreeClassifier(min_samples_leaf=30, min_samples_split=70)"
      ]
     },
     "execution_count": 74,
     "metadata": {},
     "output_type": "execute_result"
    }
   ],
   "source": [
    "dt1.fit(x_tr, y_tr)"
   ]
  },
  {
   "cell_type": "code",
   "execution_count": 75,
   "metadata": {},
   "outputs": [],
   "source": [
    "prun_tr_pred = dt1.predict(x_tr)"
   ]
  },
  {
   "cell_type": "code",
   "execution_count": 76,
   "metadata": {},
   "outputs": [],
   "source": [
    "prun_te_pred = dt1.predict(x_te)"
   ]
  },
  {
   "cell_type": "code",
   "execution_count": 77,
   "metadata": {},
   "outputs": [
    {
     "data": {
      "text/plain": [
       "array([[ 2327,  2280,  4811,  3765,   892],\n",
       "       [ 1738,  3164, 10367,  9427,  2151],\n",
       "       [ 1653,  4005, 23038, 28771,  8029],\n",
       "       [  775,  2389, 22034, 43919, 17887],\n",
       "       [  230,   662,  8523, 26053, 21163]], dtype=int64)"
      ]
     },
     "execution_count": 77,
     "metadata": {},
     "output_type": "execute_result"
    }
   ],
   "source": [
    "confusion_matrix(y_te, prun_te_pred)"
   ]
  },
  {
   "cell_type": "code",
   "execution_count": 78,
   "metadata": {},
   "outputs": [
    {
     "data": {
      "image/png": "[encoded data removed]",
      "text/plain": [
       "<Figure size 432x288 with 1 Axes>"
      ]
     },
     "metadata": {},
     "output_type": "display_data"
    }
   ],
   "source": [
    "sns.heatmap(confusion_matrix(y_te, prun_te_pred), annot=True, fmt='d',cbar=False)\n",
    "plt.xlabel('predicted_values')\n",
    "plt.ylabel('Actual Values')\n",
    "plt.title('Actual vs Predicted After Prunning of Tree');"
   ]
  },
  {
   "cell_type": "code",
   "execution_count": 79,
   "metadata": {},
   "outputs": [
    {
     "name": "stdout",
     "output_type": "stream",
     "text": [
      "model accuracy:  37.43646346974441\n"
     ]
    }
   ],
   "source": [
    "print('model accuracy: ', accuracy_score(y_te, prun_te_pred)*100)"
   ]
  },
  {
   "cell_type": "markdown",
   "metadata": {},
   "source": [
    "- It gives model accuracy 37.43%. Accuracy increase little after prunning."
   ]
  },
  {
   "cell_type": "code",
   "execution_count": 80,
   "metadata": {},
   "outputs": [],
   "source": [
    "prun_pred_prob = dt1.predict_proba(x_te)[:, 1]"
   ]
  },
  {
   "cell_type": "code",
   "execution_count": 81,
   "metadata": {},
   "outputs": [],
   "source": [
    "fpr2, tpr2, thresholds = metrics.roc_curve(y_te, prun_pred_prob, pos_label=1)"
   ]
  },
  {
   "cell_type": "code",
   "execution_count": 82,
   "metadata": {
    "collapsed": true,
    "jupyter": {
     "outputs_hidden": true
    }
   },
   "outputs": [
    {
     "data": {
      "text/plain": [
       "array([1.63793103, 0.63793103, 0.63333333, 0.625     , 0.61290323,\n",
       "       0.60606061, 0.6       , 0.59375   , 0.58536585, 0.58064516,\n",
       "       0.575     , 0.57446809, 0.57352941, 0.57142857, 0.56666667,\n",
       "       0.56410256, 0.5625    , 0.56097561, 0.55882353, 0.55813953,\n",
       "       0.55555556, 0.55      , 0.5483871 , 0.54545455, 0.54285714,\n",
       "       0.54054054, 0.53658537, 0.53623188, 0.53488372, 0.53333333,\n",
       "       0.53125   , 0.52941176, 0.52830189, 0.52777778, 0.52173913,\n",
       "       0.52      , 0.51785714, 0.51612903, 0.51515152, 0.51470588,\n",
       "       0.51428571, 0.51219512, 0.51111111, 0.5106383 , 0.50980392,\n",
       "       0.50769231, 0.5       , 0.49230769, 0.49206349, 0.48979592,\n",
       "       0.48888889, 0.48837209, 0.48780488, 0.48717949, 0.48648649,\n",
       "       0.48571429, 0.48484848, 0.48387097, 0.48148148, 0.48076923,\n",
       "       0.47916667, 0.47761194, 0.47727273, 0.47619048, 0.47540984,\n",
       "       0.475     , 0.47368421, 0.47272727, 0.47222222, 0.47058824,\n",
       "       0.46875   , 0.46774194, 0.46666667, 0.46551724, 0.46511628,\n",
       "       0.46296296, 0.46153846, 0.46      , 0.45945946, 0.45833333,\n",
       "       0.45714286, 0.45454545, 0.453125  , 0.45238095, 0.4516129 ,\n",
       "       0.45      , 0.44897959, 0.44736842, 0.44615385, 0.44444444,\n",
       "       0.44262295, 0.44230769, 0.44186047, 0.44067797, 0.43902439,\n",
       "       0.4375    , 0.43636364, 0.43589744, 0.43548387, 0.43333333,\n",
       "       0.43243243, 0.43181818, 0.43137255, 0.42857143, 0.42553191,\n",
       "       0.425     , 0.42424242, 0.42372881, 0.42307692, 0.42222222,\n",
       "       0.42105263, 0.42028986, 0.41935484, 0.41860465, 0.41818182,\n",
       "       0.41666667, 0.41538462, 0.41463415, 0.4137931 , 0.41304348,\n",
       "       0.41176471, 0.41071429, 0.41025641, 0.40909091, 0.40740741,\n",
       "       0.40677966, 0.40625   , 0.4057971 , 0.40540541, 0.4047619 ,\n",
       "       0.40425532, 0.40350877, 0.40322581, 0.4       , 0.39622642,\n",
       "       0.39583333, 0.39534884, 0.39473684, 0.39393939, 0.39344262,\n",
       "       0.39285714, 0.39215686, 0.39130435, 0.3902439 , 0.38888889,\n",
       "       0.3877551 , 0.38709677, 0.38636364, 0.38596491, 0.38461538,\n",
       "       0.38297872, 0.38235294, 0.38181818, 0.38095238, 0.38      ,\n",
       "       0.37837838, 0.37777778, 0.37735849, 0.37704918, 0.375     ,\n",
       "       0.37288136, 0.37254902, 0.37209302, 0.37142857, 0.37096774,\n",
       "       0.36956522, 0.36923077, 0.36842105, 0.36764706, 0.36734694,\n",
       "       0.36666667, 0.36585366, 0.36538462, 0.36363636, 0.36231884,\n",
       "       0.36206897, 0.36170213, 0.36111111, 0.359375  , 0.35897436,\n",
       "       0.35849057, 0.35714286, 0.3559322 , 0.35555556, 0.35483871,\n",
       "       0.35416667, 0.35384615, 0.35294118, 0.35185185, 0.35135135,\n",
       "       0.35087719, 0.35      , 0.34920635, 0.34883721, 0.34782609,\n",
       "       0.34693878, 0.34615385, 0.34545455, 0.34482759, 0.3442623 ,\n",
       "       0.34375   , 0.34328358, 0.34285714, 0.34210526, 0.34146341,\n",
       "       0.34090909, 0.34042553, 0.34      , 0.33962264, 0.33898305,\n",
       "       0.33870968, 0.33846154, 0.33823529, 0.33333333, 0.32835821,\n",
       "       0.328125  , 0.32786885, 0.32758621, 0.32727273, 0.32692308,\n",
       "       0.32653061, 0.32608696, 0.3255814 , 0.325     , 0.32432432,\n",
       "       0.32352941, 0.32307692, 0.32258065, 0.3220339 , 0.32142857,\n",
       "       0.32075472, 0.32      , 0.31914894, 0.31884058, 0.31818182,\n",
       "       0.31746032, 0.31707317, 0.31666667, 0.31578947, 0.31481481,\n",
       "       0.31428571, 0.31372549, 0.31343284, 0.3125    , 0.31147541,\n",
       "       0.31111111, 0.31034483, 0.30952381, 0.30909091, 0.30769231,\n",
       "       0.30645161, 0.30612245, 0.30555556, 0.30508475, 0.30434783,\n",
       "       0.30357143, 0.3030303 , 0.30232558, 0.30188679, 0.3015873 ,\n",
       "       0.3       , 0.29850746, 0.29824561, 0.29787234, 0.2972973 ,\n",
       "       0.296875  , 0.2962963 , 0.29545455, 0.29508197, 0.29411765,\n",
       "       0.29310345, 0.29268293, 0.29230769, 0.29166667, 0.29090909,\n",
       "       0.29032258, 0.28985507, 0.28947368, 0.28888889, 0.28846154,\n",
       "       0.28813559, 0.28787879, 0.28571429, 0.28358209, 0.28333333,\n",
       "       0.28301887, 0.2826087 , 0.28205128, 0.28125   , 0.28070175,\n",
       "       0.28      , 0.27906977, 0.27868852, 0.27777778, 0.27692308,\n",
       "       0.27659574, 0.27586207, 0.27536232, 0.275     , 0.2745098 ,\n",
       "       0.27419355, 0.27272727, 0.27118644, 0.27083333, 0.27027027,\n",
       "       0.26984127, 0.26923077, 0.26865672, 0.26829268, 0.26785714,\n",
       "       0.26666667, 0.265625  , 0.26530612, 0.26470588, 0.26415094,\n",
       "       0.26315789, 0.26229508, 0.26190476, 0.26153846, 0.26086957,\n",
       "       0.26      , 0.25925926, 0.25862069, 0.25806452, 0.25757576,\n",
       "       0.25714286, 0.25641026, 0.25581395, 0.25531915, 0.25490196,\n",
       "       0.25454545, 0.25423729, 0.25396825, 0.25373134, 0.25      ,\n",
       "       0.24637681, 0.24615385, 0.24590164, 0.24561404, 0.24528302,\n",
       "       0.24489796, 0.24444444, 0.24390244, 0.24324324, 0.24242424,\n",
       "       0.24193548, 0.24137931, 0.24074074, 0.24      , 0.23913043,\n",
       "       0.23880597, 0.23809524, 0.23728814, 0.23684211, 0.23636364,\n",
       "       0.23529412, 0.234375  , 0.23404255, 0.23333333, 0.23255814,\n",
       "       0.23214286, 0.23188406, 0.23076923, 0.2295082 , 0.22916667,\n",
       "       0.22857143, 0.22807018, 0.22727273, 0.22641509, 0.22580645,\n",
       "       0.225     , 0.2244898 , 0.22413793, 0.2238806 , 0.22222222,\n",
       "       0.22058824, 0.22033898, 0.22      , 0.2195122 , 0.21875   ,\n",
       "       0.21818182, 0.2173913 , 0.21666667, 0.21621622, 0.21568627,\n",
       "       0.21538462, 0.21428571, 0.21311475, 0.21276596, 0.21212121,\n",
       "       0.21153846, 0.21052632, 0.20967742, 0.20930233, 0.20895522,\n",
       "       0.20833333, 0.20754717, 0.20689655, 0.20634921, 0.20588235,\n",
       "       0.20512821, 0.20454545, 0.20408163, 0.2037037 , 0.20338983,\n",
       "       0.203125  , 0.20289855, 0.2       , 0.1969697 , 0.19672131,\n",
       "       0.19642857, 0.19607843, 0.19565217, 0.19512195, 0.19444444,\n",
       "       0.19402985, 0.19354839, 0.19298246, 0.19230769, 0.19148936,\n",
       "       0.19117647, 0.19047619, 0.18965517, 0.18918919, 0.18867925,\n",
       "       0.1884058 , 0.1875    , 0.18644068, 0.18604651, 0.18518519,\n",
       "       0.18461538, 0.18421053, 0.18367347, 0.18333333, 0.18181818,\n",
       "       0.18032787, 0.18      , 0.17948718, 0.17910448, 0.17857143,\n",
       "       0.17777778, 0.17741935, 0.17647059, 0.1754386 , 0.175     ,\n",
       "       0.17460317, 0.17391304, 0.17307692, 0.17241379, 0.171875  ,\n",
       "       0.17142857, 0.17073171, 0.17021277, 0.16981132, 0.16949153,\n",
       "       0.16923077, 0.16666667, 0.1641791 , 0.16393443, 0.16363636,\n",
       "       0.16326531, 0.1627907 , 0.16216216, 0.16176471, 0.16129032,\n",
       "       0.16071429, 0.16      , 0.15942029, 0.15909091, 0.15873016,\n",
       "       0.15789474, 0.15686275, 0.15625   , 0.15555556, 0.15517241,\n",
       "       0.15384615, 0.15254237, 0.15217391, 0.15151515, 0.1509434 ,\n",
       "       0.15      , 0.14925373, 0.14893617, 0.14814815, 0.14754098,\n",
       "       0.14705882, 0.14634146, 0.14583333, 0.14545455, 0.14516129,\n",
       "       0.14492754, 0.14285714, 0.140625  , 0.14035088, 0.14      ,\n",
       "       0.13953488, 0.13888889, 0.13846154, 0.13793103, 0.1372549 ,\n",
       "       0.13636364, 0.13559322, 0.13513514, 0.13461538, 0.13432836,\n",
       "       0.13333333, 0.13235294, 0.13207547, 0.13157895, 0.13114754,\n",
       "       0.13043478, 0.12962963, 0.12903226, 0.12820513, 0.12765957,\n",
       "       0.12727273, 0.12698413, 0.125     , 0.12307692, 0.12280702,\n",
       "       0.12244898, 0.12195122, 0.12121212, 0.12068966, 0.12      ,\n",
       "       0.11940299, 0.11904762, 0.11864407, 0.11764706, 0.11666667,\n",
       "       0.11627907, 0.11594203, 0.11538462, 0.1147541 , 0.11428571,\n",
       "       0.11363636, 0.11320755, 0.11290323, 0.11111111, 0.109375  ,\n",
       "       0.10909091, 0.10869565, 0.10810811, 0.10769231, 0.10714286,\n",
       "       0.10638298, 0.10606061, 0.10526316, 0.10447761, 0.10416667,\n",
       "       0.10344828, 0.10294118, 0.1025641 , 0.10204082, 0.10169492,\n",
       "       0.10144928, 0.1       , 0.09836066, 0.09803922, 0.09756098,\n",
       "       0.09677419, 0.09615385, 0.0952381 , 0.09433962, 0.09375   ,\n",
       "       0.09302326, 0.09259259, 0.09230769, 0.09090909, 0.08955224,\n",
       "       0.08928571, 0.08888889, 0.08823529, 0.0877193 , 0.08695652,\n",
       "       0.0862069 , 0.08571429, 0.08510638, 0.08474576, 0.08333333,\n",
       "       0.08196721, 0.08163265, 0.08108108, 0.08064516, 0.08      ,\n",
       "       0.07936508, 0.07894737, 0.07843137, 0.078125  , 0.07692308,\n",
       "       0.07575758, 0.0754717 , 0.075     , 0.07462687, 0.07407407,\n",
       "       0.07352941, 0.07317073, 0.07272727, 0.07246377, 0.07142857,\n",
       "       0.07017544, 0.06976744, 0.06896552, 0.06818182, 0.06779661,\n",
       "       0.06666667, 0.06557377, 0.06521739, 0.06451613, 0.06382979,\n",
       "       0.06349206, 0.0625    , 0.06153846, 0.06122449, 0.06060606,\n",
       "       0.06      , 0.05970149, 0.05882353, 0.05797101, 0.05769231,\n",
       "       0.05714286, 0.05660377, 0.05555556, 0.05454545, 0.05405405,\n",
       "       0.05357143, 0.05263158, 0.05172414, 0.05128205, 0.05084746,\n",
       "       0.05      , 0.04918033, 0.04878049, 0.0483871 , 0.04761905,\n",
       "       0.046875  , 0.04651163, 0.04615385, 0.04545455, 0.04477612,\n",
       "       0.04444444, 0.04411765, 0.04347826, 0.04255319, 0.04166667,\n",
       "       0.04081633, 0.04      , 0.03921569, 0.03846154, 0.03773585,\n",
       "       0.03703704, 0.03636364, 0.03571429, 0.03508772, 0.03448276,\n",
       "       0.03389831, 0.03333333, 0.03278689, 0.03225806, 0.03174603,\n",
       "       0.03125   , 0.03076923, 0.03030303, 0.02985075, 0.02941176,\n",
       "       0.02898551, 0.02857143, 0.02777778, 0.02702703, 0.02631579,\n",
       "       0.02564103, 0.025     , 0.02439024, 0.02380952, 0.02325581,\n",
       "       0.02272727, 0.02222222, 0.02173913, 0.0212766 , 0.02083333,\n",
       "       0.02040816, 0.02      , 0.01960784, 0.01923077, 0.01886792,\n",
       "       0.01851852, 0.01818182, 0.01785714, 0.01754386, 0.01724138,\n",
       "       0.01694915, 0.01666667, 0.01639344, 0.01612903, 0.01587302,\n",
       "       0.015625  , 0.01538462, 0.01515152, 0.01492537, 0.01470588,\n",
       "       0.01449275, 0.        ])"
      ]
     },
     "execution_count": 82,
     "metadata": {},
     "output_type": "execute_result"
    }
   ],
   "source": [
    "thresholds"
   ]
  },
  {
   "cell_type": "code",
   "execution_count": 83,
   "metadata": {},
   "outputs": [
    {
     "data": {
      "text/plain": [
       "0.7304480144888722"
      ]
     },
     "execution_count": 83,
     "metadata": {},
     "output_type": "execute_result"
    }
   ],
   "source": [
    "auc_dt1 = metrics.auc(fpr2, tpr2)\n",
    "auc_dt1"
   ]
  },
  {
   "cell_type": "code",
   "execution_count": 84,
   "metadata": {},
   "outputs": [
    {
     "name": "stdout",
     "output_type": "stream",
     "text": [
      "              precision    recall  f1-score   support\n",
      "\n",
      "           1       0.35      0.17      0.22     14075\n",
      "           2       0.25      0.12      0.16     26847\n",
      "           3       0.33      0.35      0.34     65496\n",
      "           4       0.39      0.50      0.44     87004\n",
      "           5       0.42      0.37      0.40     56631\n",
      "\n",
      "    accuracy                           0.37    250053\n",
      "   macro avg       0.35      0.30      0.31    250053\n",
      "weighted avg       0.37      0.37      0.36    250053\n",
      "\n"
     ]
    }
   ],
   "source": [
    "print(classification_report(y_te,prun_te_pred))"
   ]
  },
  {
   "cell_type": "markdown",
   "metadata": {},
   "source": [
    "__Decision tree 2 with prunning and change in parameter__"
   ]
  },
  {
   "cell_type": "code",
   "execution_count": 85,
   "metadata": {},
   "outputs": [],
   "source": [
    "dt2 = DecisionTreeClassifier(min_samples_leaf = 100,\n",
    "                             min_samples_split = 300)"
   ]
  },
  {
   "cell_type": "code",
   "execution_count": 86,
   "metadata": {},
   "outputs": [
    {
     "data": {
      "text/plain": [
       "DecisionTreeClassifier(min_samples_leaf=100, min_samples_split=300)"
      ]
     },
     "execution_count": 86,
     "metadata": {},
     "output_type": "execute_result"
    }
   ],
   "source": [
    "dt2.fit(x_tr, y_tr)"
   ]
  },
  {
   "cell_type": "code",
   "execution_count": 87,
   "metadata": {},
   "outputs": [],
   "source": [
    "prun1_te_pred = dt2.predict(x_te)"
   ]
  },
  {
   "cell_type": "code",
   "execution_count": 88,
   "metadata": {},
   "outputs": [
    {
     "data": {
      "text/plain": [
       "0.3946923252270519"
      ]
     },
     "execution_count": 88,
     "metadata": {},
     "output_type": "execute_result"
    }
   ],
   "source": [
    "accuracy_score(y_te, prun1_te_pred)"
   ]
  },
  {
   "cell_type": "markdown",
   "metadata": {},
   "source": [
    "- It gives the model accuracy 39.46%. It also increase the accuracy."
   ]
  },
  {
   "cell_type": "code",
   "execution_count": 89,
   "metadata": {},
   "outputs": [
    {
     "name": "stdout",
     "output_type": "stream",
     "text": [
      "              precision    recall  f1-score   support\n",
      "\n",
      "           1       0.37      0.16      0.22     14075\n",
      "           2       0.28      0.06      0.10     26847\n",
      "           3       0.35      0.35      0.35     65496\n",
      "           4       0.40      0.59      0.47     87004\n",
      "           5       0.46      0.37      0.41     56631\n",
      "\n",
      "    accuracy                           0.39    250053\n",
      "   macro avg       0.37      0.31      0.31    250053\n",
      "weighted avg       0.39      0.39      0.37    250053\n",
      "\n"
     ]
    }
   ],
   "source": [
    "print(classification_report(y_te, prun1_te_pred))"
   ]
  },
  {
   "cell_type": "markdown",
   "metadata": {},
   "source": [
    "__Model Linear Regression__"
   ]
  },
  {
   "cell_type": "code",
   "execution_count": 91,
   "metadata": {},
   "outputs": [],
   "source": [
    "train, test = train_test_split(master_df, test_size=0.25, random_state=1)"
   ]
  },
  {
   "cell_type": "code",
   "execution_count": 92,
   "metadata": {},
   "outputs": [],
   "source": [
    "x = train.drop('Rating',axis=1)\n",
    "y = train.Rating"
   ]
  },
  {
   "cell_type": "code",
   "execution_count": 95,
   "metadata": {},
   "outputs": [],
   "source": [
    "from sklearn.linear_model import LinearRegression\n",
    "lr = LinearRegression()"
   ]
  },
  {
   "cell_type": "code",
   "execution_count": 98,
   "metadata": {},
   "outputs": [
    {
     "data": {
      "text/plain": [
       "LinearRegression()"
      ]
     },
     "execution_count": 98,
     "metadata": {},
     "output_type": "execute_result"
    }
   ],
   "source": [
    "lr.fit(x, y)"
   ]
  },
  {
   "cell_type": "code",
   "execution_count": 99,
   "metadata": {},
   "outputs": [],
   "source": [
    "y_pred = lr.predict(x)"
   ]
  },
  {
   "cell_type": "code",
   "execution_count": 100,
   "metadata": {},
   "outputs": [
    {
     "name": "stdout",
     "output_type": "stream",
     "text": [
      "Beta 0 = 5.816477877100297 \n",
      "Coefficient = [-0.00005527  0.00001339 -0.00000281 -0.          0.0307668   0.00393113\n",
      "  0.00099333 -0.0000028  -0.10187324 -0.00929697  0.37570539 -0.33970473\n",
      " -0.00785888  0.07977919  0.39861546  0.2266772   0.06569974  0.42587945\n",
      " -0.27815269  0.13246316  0.00870057 -0.0378955  -0.03228329  0.04822785\n",
      "  0.27707993  0.10057828]\n"
     ]
    }
   ],
   "source": [
    "print('Beta 0 = {} \\nCoefficient = {}'.format(lr.intercept_,lr.coef_))"
   ]
  },
  {
   "cell_type": "code",
   "execution_count": 101,
   "metadata": {},
   "outputs": [
    {
     "name": "stdout",
     "output_type": "stream",
     "text": [
      "Rsquared =  4.153\n"
     ]
    }
   ],
   "source": [
    "print('Rsquared = ', round(lr.score(x, y)*100, 3))"
   ]
  },
  {
   "cell_type": "code",
   "execution_count": 102,
   "metadata": {},
   "outputs": [
    {
     "name": "stdout",
     "output_type": "stream",
     "text": [
      "MSE =  1.1957896410687878\n"
     ]
    }
   ],
   "source": [
    "from sklearn.metrics import mean_squared_error\n",
    "print('MSE = ' , mean_squared_error(y, y_pred))"
   ]
  },
  {
   "cell_type": "code",
   "execution_count": null,
   "metadata": {},
   "outputs": [],
   "source": []
  },
  {
   "cell_type": "code",
   "execution_count": null,
   "metadata": {},
   "outputs": [],
   "source": []
  }
 ],
 "metadata": {
  "kernelspec": {
   "display_name": "Python 3",
   "language": "python",
   "name": "python3"
  },
  "language_info": {
   "codemirror_mode": {
    "name": "ipython",
    "version": 3
   },
   "file_extension": ".py",
   "mimetype": "text/x-python",
   "name": "python",
   "nbconvert_exporter": "python",
   "pygments_lexer": "ipython3",
   "version": "3.7.1"
  }
 },
 "nbformat": 4,
 "nbformat_minor": 4
}
